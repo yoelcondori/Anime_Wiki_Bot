{
  "cells": [
    {
      "cell_type": "markdown",
      "metadata": {
        "id": "yiCfWoc9Uc7X"
      },
      "source": [
        "# Build Your First QA System\n",
        "\n",
        "[![Open In Colab](https://colab.research.google.com/assets/colab-badge.svg)](https://colab.research.google.com/drive/11ulGMt1zZhWgjz_J2SYhHgfcM0EEtlo0?usp=sharing)\n"
      ]
    },
    {
      "cell_type": "markdown",
      "metadata": {
        "collapsed": false,
        "id": "WqJ-MwkIUc7Y"
      },
      "source": [
        "### Prepare environment\n",
        "\n",
        "#### Colab: Enable the GPU runtime\n",
        "Make sure you enable the GPU runtime to experience decent speed in this tutorial.\n",
        "**Runtime -> Change Runtime type -> Hardware accelerator -> GPU**\n",
        "\n",
        "<img src=\"https://raw.githubusercontent.com/deepset-ai/haystack/master/docs/img/colab_gpu_runtime.jpg\">"
      ]
    },
    {
      "cell_type": "code",
      "execution_count": null,
      "metadata": {
        "pycharm": {
          "name": "#%%\n"
        },
        "id": "S75cAz__Uc7Y",
        "colab": {
          "base_uri": "https://localhost:8080/"
        },
        "outputId": "4bbdaa00-a8f9-4773-f43e-57839a9d1372"
      },
      "outputs": [
        {
          "output_type": "stream",
          "name": "stdout",
          "text": [
            "Thu Jun  2 09:59:21 2022       \n",
            "+-----------------------------------------------------------------------------+\n",
            "| NVIDIA-SMI 460.32.03    Driver Version: 460.32.03    CUDA Version: 11.2     |\n",
            "|-------------------------------+----------------------+----------------------+\n",
            "| GPU  Name        Persistence-M| Bus-Id        Disp.A | Volatile Uncorr. ECC |\n",
            "| Fan  Temp  Perf  Pwr:Usage/Cap|         Memory-Usage | GPU-Util  Compute M. |\n",
            "|                               |                      |               MIG M. |\n",
            "|===============================+======================+======================|\n",
            "|   0  Tesla T4            Off  | 00000000:00:04.0 Off |                    0 |\n",
            "| N/A   47C    P0    27W /  70W |   2858MiB / 15109MiB |      0%      Default |\n",
            "|                               |                      |                  N/A |\n",
            "+-------------------------------+----------------------+----------------------+\n",
            "                                                                               \n",
            "+-----------------------------------------------------------------------------+\n",
            "| Processes:                                                                  |\n",
            "|  GPU   GI   CI        PID   Type   Process name                  GPU Memory |\n",
            "|        ID   ID                                                   Usage      |\n",
            "|=============================================================================|\n",
            "+-----------------------------------------------------------------------------+\n"
          ]
        }
      ],
      "source": [
        "# Make sure you have a GPU running\n",
        "!nvidia-smi"
      ]
    },
    {
      "cell_type": "code",
      "execution_count": null,
      "metadata": {
        "id": "zDZehRWMUc7Y",
        "colab": {
          "base_uri": "https://localhost:8080/"
        },
        "outputId": "732286ef-1c28-4366-a5a7-17038d8a9cb2"
      },
      "outputs": [
        {
          "output_type": "stream",
          "name": "stdout",
          "text": [
            "Looking in indexes: https://pypi.org/simple, https://us-python.pkg.dev/colab-wheels/public/simple/\n",
            "Requirement already satisfied: pip in /usr/local/lib/python3.7/dist-packages (22.1.2)\n",
            "\u001b[33mWARNING: Running pip as the 'root' user can result in broken permissions and conflicting behaviour with the system package manager. It is recommended to use a virtual environment instead: https://pip.pypa.io/warnings/venv\u001b[0m\u001b[33m\n",
            "\u001b[0mLooking in indexes: https://pypi.org/simple, https://us-python.pkg.dev/colab-wheels/public/simple/\n",
            "Collecting farm-haystack[colab]\n",
            "  Cloning https://github.com/deepset-ai/haystack.git to /tmp/pip-install-hgp4llap/farm-haystack_a5633021a4be413eab5d1cce473ce034\n",
            "  Running command git clone --filter=blob:none --quiet https://github.com/deepset-ai/haystack.git /tmp/pip-install-hgp4llap/farm-haystack_a5633021a4be413eab5d1cce473ce034\n",
            "  Resolved https://github.com/deepset-ai/haystack.git to commit a617ab950b603aab27e500bc66f40654ade69b22\n",
            "  Installing build dependencies ... \u001b[?25l\u001b[?25hdone\n",
            "  Getting requirements to build wheel ... \u001b[?25l\u001b[?25hdone\n",
            "  Preparing metadata (pyproject.toml) ... \u001b[?25l\u001b[?25hdone\n",
            "Requirement already satisfied: seqeval in /usr/local/lib/python3.7/dist-packages (from farm-haystack[colab]) (1.2.2)\n",
            "Requirement already satisfied: quantulum3 in /usr/local/lib/python3.7/dist-packages (from farm-haystack[colab]) (0.7.10)\n",
            "Requirement already satisfied: more-itertools in /usr/local/lib/python3.7/dist-packages (from farm-haystack[colab]) (8.13.0)\n",
            "Requirement already satisfied: mlflow in /usr/local/lib/python3.7/dist-packages (from farm-haystack[colab]) (1.26.1)\n",
            "Requirement already satisfied: azure-core<1.23 in /usr/local/lib/python3.7/dist-packages (from farm-haystack[colab]) (1.22.1)\n",
            "Requirement already satisfied: pandas in /usr/local/lib/python3.7/dist-packages (from farm-haystack[colab]) (1.3.5)\n",
            "Requirement already satisfied: langdetect in /usr/local/lib/python3.7/dist-packages (from farm-haystack[colab]) (1.0.9)\n",
            "Requirement already satisfied: importlib-metadata in /usr/local/lib/python3.7/dist-packages (from farm-haystack[colab]) (4.11.4)\n",
            "Requirement already satisfied: requests in /usr/local/lib/python3.7/dist-packages (from farm-haystack[colab]) (2.23.0)\n",
            "Requirement already satisfied: azure-ai-formrecognizer==3.2.0b2 in /usr/local/lib/python3.7/dist-packages (from farm-haystack[colab]) (3.2.0b2)\n",
            "Requirement already satisfied: elastic-apm in /usr/local/lib/python3.7/dist-packages (from farm-haystack[colab]) (6.9.1)\n",
            "Requirement already satisfied: networkx in /usr/local/lib/python3.7/dist-packages (from farm-haystack[colab]) (2.6.3)\n",
            "Requirement already satisfied: dill in /usr/local/lib/python3.7/dist-packages (from farm-haystack[colab]) (0.3.5.1)\n",
            "Requirement already satisfied: pydantic in /usr/local/lib/python3.7/dist-packages (from farm-haystack[colab]) (1.9.1)\n",
            "Requirement already satisfied: posthog in /usr/local/lib/python3.7/dist-packages (from farm-haystack[colab]) (1.4.8)\n",
            "Requirement already satisfied: sentence-transformers>=2.2.0 in /usr/local/lib/python3.7/dist-packages (from farm-haystack[colab]) (2.2.0)\n",
            "Requirement already satisfied: tika in /usr/local/lib/python3.7/dist-packages (from farm-haystack[colab]) (1.24)\n",
            "Requirement already satisfied: scipy>=1.3.2 in /usr/local/lib/python3.7/dist-packages (from farm-haystack[colab]) (1.4.1)\n",
            "Requirement already satisfied: nltk in /usr/local/lib/python3.7/dist-packages (from farm-haystack[colab]) (3.2.5)\n",
            "Requirement already satisfied: torch<1.12,>1.9 in /usr/local/lib/python3.7/dist-packages (from farm-haystack[colab]) (1.11.0+cu113)\n",
            "Requirement already satisfied: jsonschema in /usr/local/lib/python3.7/dist-packages (from farm-haystack[colab]) (4.3.3)\n",
            "Requirement already satisfied: scikit-learn>=1.0.0 in /usr/local/lib/python3.7/dist-packages (from farm-haystack[colab]) (1.0.2)\n",
            "Requirement already satisfied: transformers==4.19.2 in /usr/local/lib/python3.7/dist-packages (from farm-haystack[colab]) (4.19.2)\n",
            "Requirement already satisfied: rapidfuzz in /usr/local/lib/python3.7/dist-packages (from farm-haystack[colab]) (2.0.11)\n",
            "Requirement already satisfied: python-docx in /usr/local/lib/python3.7/dist-packages (from farm-haystack[colab]) (0.8.11)\n",
            "Requirement already satisfied: elasticsearch<=7.10,>=7.7 in /usr/local/lib/python3.7/dist-packages (from farm-haystack[colab]) (7.10.0)\n",
            "Requirement already satisfied: tqdm in /usr/local/lib/python3.7/dist-packages (from farm-haystack[colab]) (4.64.0)\n",
            "Requirement already satisfied: mmh3 in /usr/local/lib/python3.7/dist-packages (from farm-haystack[colab]) (3.0.0)\n",
            "Requirement already satisfied: grpcio==1.43.0 in /usr/local/lib/python3.7/dist-packages (from farm-haystack[colab]) (1.43.0)\n",
            "Requirement already satisfied: azure-common~=1.1 in /usr/local/lib/python3.7/dist-packages (from azure-ai-formrecognizer==3.2.0b2->farm-haystack[colab]) (1.1.28)\n",
            "Requirement already satisfied: msrest>=0.6.21 in /usr/local/lib/python3.7/dist-packages (from azure-ai-formrecognizer==3.2.0b2->farm-haystack[colab]) (0.6.21)\n",
            "Requirement already satisfied: six>=1.11.0 in /usr/local/lib/python3.7/dist-packages (from azure-ai-formrecognizer==3.2.0b2->farm-haystack[colab]) (1.15.0)\n",
            "Requirement already satisfied: regex!=2019.12.17 in /usr/local/lib/python3.7/dist-packages (from transformers==4.19.2->farm-haystack[colab]) (2019.12.20)\n",
            "Requirement already satisfied: packaging>=20.0 in /usr/local/lib/python3.7/dist-packages (from transformers==4.19.2->farm-haystack[colab]) (21.3)\n",
            "Requirement already satisfied: huggingface-hub<1.0,>=0.1.0 in /usr/local/lib/python3.7/dist-packages (from transformers==4.19.2->farm-haystack[colab]) (0.7.0)\n",
            "Requirement already satisfied: tokenizers!=0.11.3,<0.13,>=0.11.1 in /usr/local/lib/python3.7/dist-packages (from transformers==4.19.2->farm-haystack[colab]) (0.12.1)\n",
            "Requirement already satisfied: pyyaml>=5.1 in /usr/local/lib/python3.7/dist-packages (from transformers==4.19.2->farm-haystack[colab]) (6.0)\n",
            "Requirement already satisfied: filelock in /usr/local/lib/python3.7/dist-packages (from transformers==4.19.2->farm-haystack[colab]) (3.7.0)\n",
            "Requirement already satisfied: numpy>=1.17 in /usr/local/lib/python3.7/dist-packages (from transformers==4.19.2->farm-haystack[colab]) (1.21.6)\n",
            "Requirement already satisfied: certifi in /usr/local/lib/python3.7/dist-packages (from elasticsearch<=7.10,>=7.7->farm-haystack[colab]) (2022.5.18.1)\n",
            "Requirement already satisfied: urllib3<2,>=1.21.1 in /usr/local/lib/python3.7/dist-packages (from elasticsearch<=7.10,>=7.7->farm-haystack[colab]) (1.24.3)\n",
            "Requirement already satisfied: idna<3,>=2.5 in /usr/local/lib/python3.7/dist-packages (from requests->farm-haystack[colab]) (2.10)\n",
            "Requirement already satisfied: chardet<4,>=3.0.2 in /usr/local/lib/python3.7/dist-packages (from requests->farm-haystack[colab]) (3.0.4)\n",
            "Requirement already satisfied: threadpoolctl>=2.0.0 in /usr/local/lib/python3.7/dist-packages (from scikit-learn>=1.0.0->farm-haystack[colab]) (3.1.0)\n",
            "Requirement already satisfied: joblib>=0.11 in /usr/local/lib/python3.7/dist-packages (from scikit-learn>=1.0.0->farm-haystack[colab]) (1.1.0)\n",
            "Requirement already satisfied: torchvision in /usr/local/lib/python3.7/dist-packages (from sentence-transformers>=2.2.0->farm-haystack[colab]) (0.12.0+cu113)\n",
            "Requirement already satisfied: sentencepiece in /usr/local/lib/python3.7/dist-packages (from sentence-transformers>=2.2.0->farm-haystack[colab]) (0.1.96)\n",
            "Requirement already satisfied: typing-extensions in /usr/local/lib/python3.7/dist-packages (from torch<1.12,>1.9->farm-haystack[colab]) (4.2.0)\n",
            "Requirement already satisfied: zipp>=0.5 in /usr/local/lib/python3.7/dist-packages (from importlib-metadata->farm-haystack[colab]) (3.8.0)\n",
            "Requirement already satisfied: importlib-resources>=1.4.0 in /usr/local/lib/python3.7/dist-packages (from jsonschema->farm-haystack[colab]) (5.7.1)\n",
            "Requirement already satisfied: pyrsistent!=0.17.0,!=0.17.1,!=0.17.2,>=0.14.0 in /usr/local/lib/python3.7/dist-packages (from jsonschema->farm-haystack[colab]) (0.18.1)\n",
            "Requirement already satisfied: attrs>=17.4.0 in /usr/local/lib/python3.7/dist-packages (from jsonschema->farm-haystack[colab]) (21.4.0)\n",
            "Requirement already satisfied: cloudpickle in /usr/local/lib/python3.7/dist-packages (from mlflow->farm-haystack[colab]) (1.3.0)\n",
            "Requirement already satisfied: entrypoints in /usr/local/lib/python3.7/dist-packages (from mlflow->farm-haystack[colab]) (0.4)\n",
            "Requirement already satisfied: Flask in /usr/local/lib/python3.7/dist-packages (from mlflow->farm-haystack[colab]) (1.1.4)\n",
            "Requirement already satisfied: alembic in /usr/local/lib/python3.7/dist-packages (from mlflow->farm-haystack[colab]) (1.8.0)\n",
            "Requirement already satisfied: databricks-cli>=0.8.7 in /usr/local/lib/python3.7/dist-packages (from mlflow->farm-haystack[colab]) (0.16.6)\n",
            "Requirement already satisfied: querystring-parser in /usr/local/lib/python3.7/dist-packages (from mlflow->farm-haystack[colab]) (1.2.4)\n",
            "Requirement already satisfied: gunicorn in /usr/local/lib/python3.7/dist-packages (from mlflow->farm-haystack[colab]) (20.1.0)\n",
            "Requirement already satisfied: gitpython>=2.1.0 in /usr/local/lib/python3.7/dist-packages (from mlflow->farm-haystack[colab]) (3.1.27)\n",
            "Requirement already satisfied: sqlparse>=0.3.1 in /usr/local/lib/python3.7/dist-packages (from mlflow->farm-haystack[colab]) (0.4.2)\n",
            "Requirement already satisfied: sqlalchemy in /usr/local/lib/python3.7/dist-packages (from mlflow->farm-haystack[colab]) (1.4.36)\n",
            "Requirement already satisfied: prometheus-flask-exporter in /usr/local/lib/python3.7/dist-packages (from mlflow->farm-haystack[colab]) (0.20.1)\n",
            "Requirement already satisfied: docker>=4.0.0 in /usr/local/lib/python3.7/dist-packages (from mlflow->farm-haystack[colab]) (5.0.3)\n",
            "Requirement already satisfied: click>=7.0 in /usr/local/lib/python3.7/dist-packages (from mlflow->farm-haystack[colab]) (7.1.2)\n",
            "Requirement already satisfied: protobuf>=3.12.0 in /usr/local/lib/python3.7/dist-packages (from mlflow->farm-haystack[colab]) (3.17.3)\n",
            "Requirement already satisfied: pytz in /usr/local/lib/python3.7/dist-packages (from mlflow->farm-haystack[colab]) (2022.1)\n",
            "Requirement already satisfied: python-dateutil>=2.7.3 in /usr/local/lib/python3.7/dist-packages (from pandas->farm-haystack[colab]) (2.8.2)\n",
            "Requirement already satisfied: backoff<2.0.0,>=1.10.0 in /usr/local/lib/python3.7/dist-packages (from posthog->farm-haystack[colab]) (1.11.1)\n",
            "Requirement already satisfied: monotonic>=1.5 in /usr/local/lib/python3.7/dist-packages (from posthog->farm-haystack[colab]) (1.6)\n",
            "Requirement already satisfied: lxml>=2.3.2 in /usr/local/lib/python3.7/dist-packages (from python-docx->farm-haystack[colab]) (4.2.6)\n",
            "Requirement already satisfied: num2words in /usr/local/lib/python3.7/dist-packages (from quantulum3->farm-haystack[colab]) (0.5.10)\n",
            "Requirement already satisfied: inflect in /usr/local/lib/python3.7/dist-packages (from quantulum3->farm-haystack[colab]) (2.1.0)\n",
            "Requirement already satisfied: jarowinkler<1.1.0,>=1.0.2 in /usr/local/lib/python3.7/dist-packages (from rapidfuzz->farm-haystack[colab]) (1.0.2)\n",
            "Requirement already satisfied: setuptools in /usr/local/lib/python3.7/dist-packages (from tika->farm-haystack[colab]) (57.4.0)\n",
            "Requirement already satisfied: oauthlib>=3.1.0 in /usr/local/lib/python3.7/dist-packages (from databricks-cli>=0.8.7->mlflow->farm-haystack[colab]) (3.2.0)\n",
            "Requirement already satisfied: tabulate>=0.7.7 in /usr/local/lib/python3.7/dist-packages (from databricks-cli>=0.8.7->mlflow->farm-haystack[colab]) (0.8.9)\n",
            "Requirement already satisfied: pyjwt>=1.7.0 in /usr/local/lib/python3.7/dist-packages (from databricks-cli>=0.8.7->mlflow->farm-haystack[colab]) (2.4.0)\n",
            "Requirement already satisfied: websocket-client>=0.32.0 in /usr/local/lib/python3.7/dist-packages (from docker>=4.0.0->mlflow->farm-haystack[colab]) (1.3.2)\n",
            "Requirement already satisfied: gitdb<5,>=4.0.1 in /usr/local/lib/python3.7/dist-packages (from gitpython>=2.1.0->mlflow->farm-haystack[colab]) (4.0.9)\n",
            "Requirement already satisfied: isodate>=0.6.0 in /usr/local/lib/python3.7/dist-packages (from msrest>=0.6.21->azure-ai-formrecognizer==3.2.0b2->farm-haystack[colab]) (0.6.1)\n",
            "Requirement already satisfied: requests-oauthlib>=0.5.0 in /usr/local/lib/python3.7/dist-packages (from msrest>=0.6.21->azure-ai-formrecognizer==3.2.0b2->farm-haystack[colab]) (1.3.1)\n",
            "Requirement already satisfied: pyparsing!=3.0.5,>=2.0.2 in /usr/local/lib/python3.7/dist-packages (from packaging>=20.0->transformers==4.19.2->farm-haystack[colab]) (3.0.9)\n",
            "Requirement already satisfied: Mako in /usr/local/lib/python3.7/dist-packages (from alembic->mlflow->farm-haystack[colab]) (1.2.0)\n",
            "Requirement already satisfied: greenlet!=0.4.17 in /usr/local/lib/python3.7/dist-packages (from sqlalchemy->mlflow->farm-haystack[colab]) (1.1.2)\n",
            "Requirement already satisfied: Werkzeug<2.0,>=0.15 in /usr/local/lib/python3.7/dist-packages (from Flask->mlflow->farm-haystack[colab]) (1.0.1)\n",
            "Requirement already satisfied: Jinja2<3.0,>=2.10.1 in /usr/local/lib/python3.7/dist-packages (from Flask->mlflow->farm-haystack[colab]) (2.11.3)\n",
            "Requirement already satisfied: itsdangerous<2.0,>=0.24 in /usr/local/lib/python3.7/dist-packages (from Flask->mlflow->farm-haystack[colab]) (1.1.0)\n",
            "Requirement already satisfied: docopt>=0.6.2 in /usr/local/lib/python3.7/dist-packages (from num2words->quantulum3->farm-haystack[colab]) (0.6.2)\n",
            "Requirement already satisfied: prometheus-client in /usr/local/lib/python3.7/dist-packages (from prometheus-flask-exporter->mlflow->farm-haystack[colab]) (0.14.1)\n",
            "Requirement already satisfied: pillow!=8.3.*,>=5.3.0 in /usr/local/lib/python3.7/dist-packages (from torchvision->sentence-transformers>=2.2.0->farm-haystack[colab]) (7.1.2)\n",
            "Requirement already satisfied: smmap<6,>=3.0.1 in /usr/local/lib/python3.7/dist-packages (from gitdb<5,>=4.0.1->gitpython>=2.1.0->mlflow->farm-haystack[colab]) (5.0.0)\n",
            "Requirement already satisfied: MarkupSafe>=0.23 in /usr/local/lib/python3.7/dist-packages (from Jinja2<3.0,>=2.10.1->Flask->mlflow->farm-haystack[colab]) (2.0.1)\n",
            "\u001b[33mWARNING: Running pip as the 'root' user can result in broken permissions and conflicting behaviour with the system package manager. It is recommended to use a virtual environment instead: https://pip.pypa.io/warnings/venv\u001b[0m\u001b[33m\n",
            "\u001b[0m"
          ]
        }
      ],
      "source": [
        "# Install the latest release of Haystack in your own environment\n",
        "#! pip install farm-haystack\n",
        "\n",
        "# Install the latest master of Haystack\n",
        "!pip install --upgrade pip\n",
        "!pip install git+https://github.com/deepset-ai/haystack.git#egg=farm-haystack[colab]"
      ]
    },
    {
      "cell_type": "code",
      "execution_count": null,
      "metadata": {
        "id": "Fo_4d6p3Uc7Z"
      },
      "outputs": [],
      "source": [
        "from haystack.utils import clean_wiki_text, convert_files_to_docs, fetch_archive_from_http, print_answers\n",
        "from haystack.nodes import FARMReader, TransformersReader"
      ]
    },
    {
      "cell_type": "markdown",
      "metadata": {
        "id": "z-UX7-xeUc7Z"
      },
      "source": [
        "## Document Store\n",
        "\n",
        "Haystack finds answers to queries within the documents stored in a `DocumentStore`. The current implementations of `DocumentStore` include `ElasticsearchDocumentStore`, `FAISSDocumentStore`,  `SQLDocumentStore`, and `InMemoryDocumentStore`.\n",
        "\n",
        "**Here:** We recommended Elasticsearch as it comes preloaded with features like [full-text queries](https://www.elastic.co/guide/en/elasticsearch/reference/current/full-text-queries.html), [BM25 retrieval](https://www.elastic.co/elasticon/conf/2016/sf/improved-text-scoring-with-bm25), and [vector storage for text embeddings](https://www.elastic.co/guide/en/elasticsearch/reference/7.6/dense-vector.html).\n",
        "\n",
        "**Alternatives:** If you are unable to setup an Elasticsearch instance, then follow the [Tutorial 3](https://github.com/deepset-ai/haystack/blob/master/tutorials/Tutorial3_Basic_QA_Pipeline_without_Elasticsearch.ipynb) for using SQL/InMemory document stores.\n",
        "\n",
        "**Hint**: This tutorial creates a new document store instance with Wikipedia articles on Game of Thrones. However, you can configure Haystack to work with your existing document stores.\n",
        "\n",
        "### Start an Elasticsearch server\n",
        "You can start Elasticsearch on your local machine instance using Docker. If Docker is not readily available in your environment (e.g. in Colab notebooks), then you can manually download and execute Elasticsearch from source."
      ]
    },
    {
      "cell_type": "code",
      "execution_count": null,
      "metadata": {
        "id": "mveIsEzBUc7Z",
        "colab": {
          "base_uri": "https://localhost:8080/"
        },
        "outputId": "10367dba-294f-4d5e-953e-8a61242280f6"
      },
      "outputs": [
        {
          "output_type": "stream",
          "name": "stderr",
          "text": [
            "WARNING - haystack.utils.doc_store -  Tried to start Elasticsearch through Docker but this failed. It is likely that there is already an existing Elasticsearch instance running. \n"
          ]
        }
      ],
      "source": [
        "# Recommended: Start Elasticsearch using Docker via the Haystack utility function\n",
        "from haystack.utils import launch_es\n",
        "\n",
        "launch_es()"
      ]
    },
    {
      "cell_type": "code",
      "execution_count": null,
      "metadata": {
        "id": "u0bN3wKmUc7Z"
      },
      "outputs": [],
      "source": [
        "# In Colab / No Docker environments: Start Elasticsearch from source\n",
        "! wget https://artifacts.elastic.co/downloads/elasticsearch/elasticsearch-7.9.2-linux-x86_64.tar.gz -q\n",
        "! tar -xzf elasticsearch-7.9.2-linux-x86_64.tar.gz\n",
        "! chown -R daemon:daemon elasticsearch-7.9.2\n",
        "\n",
        "import os\n",
        "from subprocess import Popen, PIPE, STDOUT\n",
        "\n",
        "es_server = Popen(\n",
        "    [\"elasticsearch-7.9.2/bin/elasticsearch\"], stdout=PIPE, stderr=STDOUT, preexec_fn=lambda: os.setuid(1)  # as daemon\n",
        ")\n",
        "# wait until ES has started\n",
        "! sleep 30"
      ]
    },
    {
      "cell_type": "code",
      "execution_count": null,
      "metadata": {
        "pycharm": {
          "name": "#%%\n"
        },
        "id": "H0XptbhdUc7a"
      },
      "outputs": [],
      "source": [
        "# Connect to Elasticsearch\n",
        "\n",
        "from haystack.document_stores import ElasticsearchDocumentStore\n",
        "\n",
        "document_store = ElasticsearchDocumentStore(host=\"localhost\", username=\"\", password=\"\", index=\"document\")"
      ]
    },
    {
      "cell_type": "markdown",
      "metadata": {
        "pycharm": {
          "name": "#%% md\n"
        },
        "id": "eh-U5-K8Uc7a"
      },
      "source": [
        "## Preprocessing of documents\n",
        "\n",
        "Haystack provides a customizable pipeline for:\n",
        " - converting files into texts\n",
        " - cleaning texts\n",
        " - splitting texts\n",
        " - writing them to a Document Store\n",
        "\n",
        "In this tutorial, we download Wikipedia articles about Game of Thrones, apply a basic cleaning function, and index them in Elasticsearch."
      ]
    },
    {
      "cell_type": "code",
      "source": [
        "from google.colab import drive\n",
        "drive.mount('/content/drive')"
      ],
      "metadata": {
        "colab": {
          "base_uri": "https://localhost:8080/"
        },
        "id": "tHC-sg9LY-yn",
        "outputId": "d2be5a9b-caeb-4cb3-d7ca-ddc0312717f4"
      },
      "execution_count": null,
      "outputs": [
        {
          "output_type": "stream",
          "name": "stdout",
          "text": [
            "Drive already mounted at /content/drive; to attempt to forcibly remount, call drive.mount(\"/content/drive\", force_remount=True).\n"
          ]
        }
      ]
    },
    {
      "cell_type": "code",
      "source": [
        "import pandas as pd\n",
        "\n",
        "# Let's first fetch some documents that we want to query\n",
        "# Here: data about the Dragon Ball Series\n",
        "doc_dir = \"/content/drive/MyDrive/dragonball_chapters.csv\"\n",
        "data = pd.read_csv(doc_dir)\n",
        "\n",
        "data.columns = ['title', 'chapter_number', 'content']\n",
        "data_dics = data.to_dict('records')\n",
        "\n",
        "# Haytsack needs the following structure for data:\n",
        "# [\n",
        "\n",
        "# ]\n",
        "\n",
        "docs = []\n",
        "for dic in data_dics:\n",
        "  dic_transf = {'content': dic['content'], 'meta': {'title': dic['title'], 'chapter_number': dic['chapter_number']}}\n",
        "\n",
        "  docs.append(dic_transf)\n",
        "\n",
        "docs[0]"
      ],
      "metadata": {
        "colab": {
          "base_uri": "https://localhost:8080/"
        },
        "id": "dM4OEQlSmodo",
        "outputId": "6411a143-338a-4c9c-9ef4-8e6de82d0876"
      },
      "execution_count": null,
      "outputs": [
        {
          "output_type": "execute_result",
          "data": {
            "text/plain": [
              "{'content': \"The cover features Goku riding with Bulma while she is driving the Capsule #9 Motorcycle through a forest. The cover art for this chapter is also featured in the Akira Toriyama - The World artbooks and Daizenshuu 1.\\n Goku in the woods A young boy by the name Goku is seen rolling a tree stump down to his house while waving to some monkeys. When he gets home Goku throws the tree stump in the air to break it into firewood. After chopping wood he greets his grandfather's artifact and heads off through the woods, hunting for his next meal. While looking through the woods he decides to jump down a cliff to hunt for a Giant Fish which he catches by skinny dipping and luring it with his tail and then kills by kicking it.\\n On his way back home, he is suddenly hit by the car of a girl named Bulma. Goku first thinks Bulma and her car to be monsters and ends up destroying the car. Bulma gets angry and starts shooting at him with a gun but after finding that it is not effective she quickly surrenders and reveals to Goku that she is a human girl from the city. Goku, having never seen\\xa0a girl before, curiously examines her and invites her to his house for lunch.\\n Goku and Bulma's first meeting Upon arriving at his house, Bulma realizes that Goku is in possession of a Dragon Ball, gets excited, and grabs it. Goku quickly takes it away from her and tells her that it was a keepsake from his deceased grandfather. She explains that the Dragon Balls can summon a dragon that grants wishes when all seven are gathered and she has already collected two of them. Bulma tries to convince Goku to give her his Dragon Ball by lifting her skirt up revealing her panties to let him touch her bottom but Goku rejects the offer. Reluctant to give up his only heirloom, Goku says that he will accompany Bulma and that she can use his ball at the end.\\n Goku defeating the Pterodactyl Just before the two set off on their quest, Bulma explains to Goku that they will be able to find the Dragon Balls using a device called the Dragon Radar. Next, Bulma takes out her capsule case and uses Capsule #9 which is a Motorcycle. While heading off on the motorcycle, Bulma eventually drives the motorcycle off a steep hill and luckily lands safely— but not before frightening her and causing her to need to stop to use the bathroom.\\n Before she can go, she is kidnapped by a large pterodactyl. Alerted by Bulma's screams, Goku decides to investigate and finds Bulma in the pterodactyl's grasp. The pterodactyl claims to be a friend of Bulma, which Goku believes, allowing the pterodactyl to tie Goku to a tree while he says he needs to talk with Bulma. As the pterodactyl flies off with her, Bulma yells for Goku to help him.\\xa0Goku easily unties the rope using his tail and goes after them. Goku uses Bulma's Capsule Bike to get some air, before using his Power Pole to knock-out the beast mid-flight and saves Bulma before she hits the ground by throwing the pole through her sleeves, pinning\\xa0her to the side of a cliff. As the chapter ends, Goku lands safely as well, only to discover a scared & humiliated, Bulma crying as she pees her pants.\\n The Four-Star Dragon Ball Goku picking up the broken pieces of wood\",\n",
              " 'meta': {'chapter_number': '1', 'title': 'Bloomers and the Monkey King'}}"
            ]
          },
          "metadata": {},
          "execution_count": 44
        }
      ]
    },
    {
      "cell_type": "code",
      "execution_count": null,
      "metadata": {
        "pycharm": {
          "name": "#%%\n"
        },
        "id": "SRhCht-dUc7f",
        "colab": {
          "base_uri": "https://localhost:8080/"
        },
        "outputId": "d29fb651-88e2-40c9-f30e-316a334e6be6"
      },
      "outputs": [
        {
          "output_type": "stream",
          "name": "stdout",
          "text": [
            "{'content': \"The cover features Goku riding with Bulma while she is driving the Capsule #9 Motorcycle through a forest. The cover art for this chapter is also featured in the Akira Toriyama - The World artbooks and Daizenshuu 1.\\n Goku in the woods A young boy by the name Goku is seen rolling a tree stump down to his house while waving to some monkeys. When he gets home Goku throws the tree stump in the air to break it into firewood. After chopping wood he greets his grandfather's artifact and heads off through the woods, hunting for his next meal. While looking through the woods he decides to jump down a cliff to hunt for a Giant Fish which he catches by skinny dipping and luring it with his tail and then kills by kicking it.\\n On his way back home, he is suddenly hit by the car of a girl named Bulma. Goku first thinks Bulma and her car to be monsters and ends up destroying the car. Bulma gets angry and starts shooting at him with a gun but after finding that it is not effective she quickly surrenders and reveals to Goku that she is a human girl from the city. Goku, having never seen\\xa0a girl before, curiously examines her and invites her to his house for lunch.\\n Goku and Bulma's first meeting Upon arriving at his house, Bulma realizes that Goku is in possession of a Dragon Ball, gets excited, and grabs it. Goku quickly takes it away from her and tells her that it was a keepsake from his deceased grandfather. She explains that the Dragon Balls can summon a dragon that grants wishes when all seven are gathered and she has already collected two of them. Bulma tries to convince Goku to give her his Dragon Ball by lifting her skirt up revealing her panties to let him touch her bottom but Goku rejects the offer. Reluctant to give up his only heirloom, Goku says that he will accompany Bulma and that she can use his ball at the end.\\n Goku defeating the Pterodactyl Just before the two set off on their quest, Bulma explains to Goku that they will be able to find the Dragon Balls using a device called the Dragon Radar. Next, Bulma takes out her capsule case and uses Capsule #9 which is a Motorcycle. While heading off on the motorcycle, Bulma eventually drives the motorcycle off a steep hill and luckily lands safely— but not before frightening her and causing her to need to stop to use the bathroom.\\n Before she can go, she is kidnapped by a large pterodactyl. Alerted by Bulma's screams, Goku decides to investigate and finds Bulma in the pterodactyl's grasp. The pterodactyl claims to be a friend of Bulma, which Goku believes, allowing the pterodactyl to tie Goku to a tree while he says he needs to talk with Bulma. As the pterodactyl flies off with her, Bulma yells for Goku to help him.\\xa0Goku easily unties the rope using his tail and goes after them. Goku uses Bulma's Capsule Bike to get some air, before using his Power Pole to knock-out the beast mid-flight and saves Bulma before she hits the ground by throwing the pole through her sleeves, pinning\\xa0her to the side of a cliff. As the chapter ends, Goku lands safely as well, only to discover a scared & humiliated, Bulma crying as she pees her pants.\\n The Four-Star Dragon Ball Goku picking up the broken pieces of wood\", 'meta': {'title': 'Bloomers and the Monkey King', 'chapter_number': '1'}}\n"
          ]
        }
      ],
      "source": [
        "# Let's have a look at the first 3 entries:\n",
        "print(docs[0])\n",
        "\n",
        "# Now, let's write the dicts containing documents to our DB.\n",
        "document_store.write_documents(docs)"
      ]
    },
    {
      "cell_type": "markdown",
      "metadata": {
        "id": "V2Oubr5-Uc7g"
      },
      "source": [
        "## Initalize Retriever, Reader,  & Pipeline\n",
        "\n",
        "### Retriever\n",
        "\n",
        "Retrievers help narrowing down the scope for the Reader to smaller units of text where a given question could be answered.\n",
        "They use some simple but fast algorithm.\n",
        "\n",
        "**Here:** We use Elasticsearch's default BM25 algorithm\n",
        "\n",
        "**Alternatives:**\n",
        "\n",
        "- Customize the `BM25Retriever`with custom queries (e.g. boosting) and filters\n",
        "- Use `TfidfRetriever` in combination with a SQL or InMemory Document store for simple prototyping and debugging\n",
        "- Use `EmbeddingRetriever` to find candidate documents based on the similarity of embeddings (e.g. created via Sentence-BERT)\n",
        "- Use `DensePassageRetriever` to use different embedding models for passage and query (see Tutorial 6)"
      ]
    },
    {
      "cell_type": "code",
      "execution_count": null,
      "metadata": {
        "id": "upNkPQdhUc7g"
      },
      "outputs": [],
      "source": [
        "from haystack.nodes import BM25Retriever\n",
        "\n",
        "retriever = BM25Retriever(document_store=document_store)"
      ]
    },
    {
      "cell_type": "code",
      "execution_count": null,
      "metadata": {
        "pycharm": {
          "is_executing": false,
          "name": "#%%\n"
        },
        "id": "wqPTU_1jUc7g"
      },
      "outputs": [],
      "source": [
        "# Alternative: An in-memory TfidfRetriever based on Pandas dataframes for building quick-prototypes with SQLite document store.\n",
        "\n",
        "# from haystack.nodes import TfidfRetriever\n",
        "# retriever = TfidfRetriever(document_store=document_store)"
      ]
    },
    {
      "cell_type": "markdown",
      "metadata": {
        "id": "BOYIxCVsUc7g"
      },
      "source": [
        "### Reader\n",
        "\n",
        "A Reader scans the texts returned by retrievers in detail and extracts the k best answers. They are based\n",
        "on powerful, but slower deep learning models.\n",
        "\n",
        "Haystack currently supports Readers based on the frameworks FARM and Transformers.\n",
        "With both you can either load a local model or one from Hugging Face's model hub (https://huggingface.co/models).\n",
        "\n",
        "**Here:** a medium sized RoBERTa QA model using a Reader based on FARM (https://huggingface.co/deepset/roberta-base-squad2)\n",
        "\n",
        "**Alternatives (Reader):** TransformersReader (leveraging the `pipeline` of the Transformers package)\n",
        "\n",
        "**Alternatives (Models):** e.g. \"distilbert-base-uncased-distilled-squad\" (fast) or \"deepset/bert-large-uncased-whole-word-masking-squad2\" (good accuracy)\n",
        "\n",
        "**Hint:** You can adjust the model to return \"no answer possible\" with the no_ans_boost. Higher values mean the model prefers \"no answer possible\"\n",
        "\n",
        "#### FARMReader"
      ]
    },
    {
      "cell_type": "code",
      "execution_count": null,
      "metadata": {
        "pycharm": {
          "is_executing": false
        },
        "id": "y5db_WUKUc7g",
        "colab": {
          "base_uri": "https://localhost:8080/"
        },
        "outputId": "4cf42869-5a24-4c71-cd19-f20bab4b77e6"
      },
      "outputs": [
        {
          "output_type": "stream",
          "name": "stderr",
          "text": [
            "INFO - haystack.modeling.utils -  Using devices: CUDA:0\n",
            "INFO - haystack.modeling.utils -  Number of GPUs: 1\n",
            "INFO - haystack.modeling.model.language_model -  LOADING MODEL\n",
            "INFO - haystack.modeling.model.language_model -  =============\n",
            "INFO - haystack.modeling.model.language_model -  Could not find deepset/roberta-base-squad2 locally.\n",
            "INFO - haystack.modeling.model.language_model -  Looking on Transformers Model Hub (in local cache and online)...\n",
            "INFO - haystack.modeling.model.language_model -  Loaded deepset/roberta-base-squad2\n",
            "INFO - haystack.modeling.utils -  Using devices: CUDA\n",
            "INFO - haystack.modeling.utils -  Number of GPUs: 1\n",
            "INFO - haystack.modeling.infer -  Got ya 2 parallel workers to do inference ...\n",
            "INFO - haystack.modeling.infer -   0     0  \n",
            "INFO - haystack.modeling.infer -  /w\\   /w\\ \n",
            "INFO - haystack.modeling.infer -  /'\\   / \\ \n"
          ]
        }
      ],
      "source": [
        "from haystack.nodes import BM25Retriever\n",
        "\n",
        "retriever = BM25Retriever(document_store=document_store)\n",
        "\n",
        "# Load a  local model or any of the QA models on\n",
        "# Hugging Face's model hub (https://huggingface.co/models)\n",
        "\n",
        "reader = FARMReader(model_name_or_path=\"deepset/roberta-base-squad2\", use_gpu=True)"
      ]
    },
    {
      "cell_type": "markdown",
      "metadata": {
        "id": "nhmYrXJWUc7g"
      },
      "source": [
        "#### TransformersReader"
      ]
    },
    {
      "cell_type": "code",
      "execution_count": null,
      "metadata": {
        "id": "q0uJ7xaKUc7h"
      },
      "outputs": [],
      "source": [
        "# Alternative:\n",
        "# reader = TransformersReader(model_name_or_path=\"distilbert-base-uncased-distilled-squad\", tokenizer=\"distilbert-base-uncased\", use_gpu=-1)"
      ]
    },
    {
      "cell_type": "markdown",
      "metadata": {
        "id": "NOsW1ptDUc7h"
      },
      "source": [
        "### Pipeline\n",
        "\n",
        "With a Haystack `Pipeline` you can stick together your building blocks to a search pipeline.\n",
        "Under the hood, `Pipelines` are Directed Acyclic Graphs (DAGs) that you can easily customize for your own use cases.\n",
        "To speed things up, Haystack also comes with a few predefined Pipelines. One of them is the `ExtractiveQAPipeline` that combines a retriever and a reader to answer our questions.\n",
        "You can learn more about `Pipelines` in the [docs](https://haystack.deepset.ai/docs/latest/pipelinesmd)."
      ]
    },
    {
      "cell_type": "code",
      "execution_count": null,
      "metadata": {
        "pycharm": {
          "is_executing": false
        },
        "id": "sDbu_STfUc7h"
      },
      "outputs": [],
      "source": [
        "from haystack.pipelines import ExtractiveQAPipeline\n",
        "\n",
        "pipe = ExtractiveQAPipeline(reader, retriever)"
      ]
    },
    {
      "cell_type": "markdown",
      "metadata": {
        "id": "BC8a_PjnUc7h"
      },
      "source": [
        "## Voilà! Ask a question!"
      ]
    },
    {
      "cell_type": "code",
      "execution_count": null,
      "metadata": {
        "pycharm": {
          "is_executing": false
        },
        "id": "P_SwR952Uc7h",
        "colab": {
          "base_uri": "https://localhost:8080/"
        },
        "outputId": "709d54fb-8413-4ccc-c686-d55af70199f3"
      },
      "outputs": [
        {
          "output_type": "stream",
          "name": "stderr",
          "text": [
            "Inferencing Samples:   0%|          | 0/1 [00:00<?, ? Batches/s]/usr/local/lib/python3.7/dist-packages/haystack/modeling/model/prediction_head.py:483: UserWarning: __floordiv__ is deprecated, and its behavior will change in a future version of pytorch. It currently rounds toward 0 (like the 'trunc' function NOT 'floor'). This results in incorrect rounding for negative values. To keep the current behavior, use torch.div(a, b, rounding_mode='trunc'), or for actual floor division, use torch.div(a, b, rounding_mode='floor').\n",
            "  start_indices = flat_sorted_indices // max_seq_len\n",
            "Inferencing Samples: 100%|██████████| 1/1 [00:00<00:00,  4.65 Batches/s]\n",
            "Inferencing Samples: 100%|██████████| 1/1 [00:00<00:00,  4.66 Batches/s]\n",
            "Inferencing Samples: 100%|██████████| 1/1 [00:00<00:00,  9.66 Batches/s]\n",
            "Inferencing Samples: 100%|██████████| 1/1 [00:00<00:00, 23.92 Batches/s]\n",
            "Inferencing Samples: 100%|██████████| 1/1 [00:00<00:00, 24.23 Batches/s]\n",
            "Inferencing Samples: 100%|██████████| 1/1 [00:00<00:00, 16.77 Batches/s]\n",
            "Inferencing Samples: 100%|██████████| 1/1 [00:00<00:00, 24.00 Batches/s]\n",
            "Inferencing Samples: 100%|██████████| 1/1 [00:00<00:00, 32.01 Batches/s]\n",
            "Inferencing Samples: 100%|██████████| 1/1 [00:00<00:00, 11.85 Batches/s]\n",
            "Inferencing Samples: 100%|██████████| 1/1 [00:00<00:00, 17.36 Batches/s]\n"
          ]
        }
      ],
      "source": [
        "# You can configure how many candidates the reader and retriever shall return\n",
        "# The higher top_k_retriever, the better (but also the slower) your answers.\n",
        "#prediction = pipe.run(\n",
        "#    query=\"Who gathered the Dragon Balls?\", params={\"Retriever\": {\"top_k\": 10}, \"Reader\": {\"top_k\": 5}}\n",
        "#)\n",
        "#prediction = pipe.run(\n",
        "#    query=\"Who kills Raditz?\", params={\"Retriever\": {\"top_k\": 10}, \"Reader\": {\"top_k\": 5}}\n",
        "#)\n",
        "prediction = pipe.run(\n",
        "    query=\"Who was Goku's mentor?\", params={\"Retriever\": {\"top_k\": 10}, \"Reader\": {\"top_k\": 5}}\n",
        ")"
      ]
    },
    {
      "cell_type": "code",
      "source": [
        "prediction['answers'][0].answer"
      ],
      "metadata": {
        "colab": {
          "base_uri": "https://localhost:8080/",
          "height": 36
        },
        "id": "3fD35EC81bWR",
        "outputId": "63aca7a3-3a38-4e66-aee8-0cbfcf2d611a"
      },
      "execution_count": null,
      "outputs": [
        {
          "output_type": "execute_result",
          "data": {
            "text/plain": [
              "'Master Roshi'"
            ],
            "application/vnd.google.colaboratory.intrinsic+json": {
              "type": "string"
            }
          },
          "metadata": {},
          "execution_count": 52
        }
      ]
    },
    {
      "cell_type": "code",
      "source": [
        "# Now you can either print the object directly...\n",
        "from pprint import pprint\n",
        "prediction = pipe.run(\n",
        "    query=\"Who was Goku's mentor?\", params={\"Retriever\": {\"top_k\": 10}, \"Reader\": {\"top_k\": 5}}\n",
        ")\n",
        "pprint(prediction)"
      ],
      "metadata": {
        "colab": {
          "base_uri": "https://localhost:8080/"
        },
        "id": "d2c_kfN9nqV8",
        "outputId": "142bca2d-a13d-4508-f75b-f66f94c7360e"
      },
      "execution_count": null,
      "outputs": [
        {
          "output_type": "stream",
          "name": "stderr",
          "text": [
            "Inferencing Samples:   0%|          | 0/1 [00:00<?, ? Batches/s]/usr/local/lib/python3.7/dist-packages/haystack/modeling/model/prediction_head.py:483: UserWarning: __floordiv__ is deprecated, and its behavior will change in a future version of pytorch. It currently rounds toward 0 (like the 'trunc' function NOT 'floor'). This results in incorrect rounding for negative values. To keep the current behavior, use torch.div(a, b, rounding_mode='trunc'), or for actual floor division, use torch.div(a, b, rounding_mode='floor').\n",
            "  start_indices = flat_sorted_indices // max_seq_len\n",
            "Inferencing Samples: 100%|██████████| 1/1 [00:00<00:00,  7.59 Batches/s]\n",
            "Inferencing Samples: 100%|██████████| 1/1 [00:00<00:00,  5.89 Batches/s]\n",
            "Inferencing Samples: 100%|██████████| 1/1 [00:00<00:00, 17.77 Batches/s]\n",
            "Inferencing Samples: 100%|██████████| 1/1 [00:00<00:00, 11.77 Batches/s]\n",
            "Inferencing Samples: 100%|██████████| 1/1 [00:00<00:00, 21.85 Batches/s]\n",
            "Inferencing Samples: 100%|██████████| 1/1 [00:00<00:00, 17.27 Batches/s]\n",
            "Inferencing Samples: 100%|██████████| 1/1 [00:00<00:00, 21.32 Batches/s]\n",
            "Inferencing Samples: 100%|██████████| 1/1 [00:00<00:00, 32.64 Batches/s]\n",
            "Inferencing Samples: 100%|██████████| 1/1 [00:00<00:00, 11.98 Batches/s]\n",
            "Inferencing Samples: 100%|██████████| 1/1 [00:00<00:00, 16.81 Batches/s]"
          ]
        },
        {
          "output_type": "stream",
          "name": "stdout",
          "text": [
            "{'answers': [<Answer {'answer': 'Master Roshi', 'type': 'extractive', 'score': 0.8219457268714905, 'context': 'Goku fires his Super Kamehameha Goku is charging a Super Kamehameha. Master Roshi then yells out at Goku to wait; if he kills Piccolo, Kami will also ', 'offsets_in_document': [{'start': 161, 'end': 173}], 'offsets_in_context': [{'start': 69, 'end': 81}], 'document_id': 'b22bc24d156b626cd75ea201c775e738', 'meta': {'title': 'The Super Kamehameha', 'chapter_number': '185'}}>,\n",
            "             <Answer {'answer': 'King Kai', 'type': 'extractive', 'score': 0.7411094009876251, 'context': \"'s office in the Other World, with his mentor for the past few months, King Kai amazed at Goku's progress and power. Teleporting to the office, Kami o\", 'offsets_in_document': [{'start': 2303, 'end': 2311}], 'offsets_in_context': [{'start': 71, 'end': 79}], 'document_id': 'a7753c674e5421a87f3b690408e11dc0', 'meta': {'title': 'Back From the Other Side', 'chapter_number': '220 (DBZ 26)'}}>,\n",
            "             <Answer {'answer': 'Master Roshi', 'type': 'extractive', 'score': 0.7345828711986542, 'context': 'The cover of this chapter shows characters like Goku, Master Roshi, Krillin and Yamcha. Grandpa Gohan is seen taking off his mask.\\n Goku cries out in ', 'offsets_in_document': [{'start': 54, 'end': 66}], 'offsets_in_context': [{'start': 54, 'end': 66}], 'document_id': 'a42b76339a5b203a31a3929f18e18ddb', 'meta': {'title': 'Son Gohan', 'chapter_number': '108'}}>,\n",
            "             <Answer {'answer': 'Roshi', 'type': 'extractive', 'score': 0.7183302640914917, 'context': \"lly chose to pit Gohan up against Goku, by Gohan's request. Gohan thanks Roshi for training and watching over Goku, and then asks him if Goku has been\", 'offsets_in_document': [{'start': 1312, 'end': 1317}], 'offsets_in_context': [{'start': 73, 'end': 78}], 'document_id': 'a42b76339a5b203a31a3929f18e18ddb', 'meta': {'title': 'Son Gohan', 'chapter_number': '108'}}>,\n",
            "             <Answer {'answer': 'Baba', 'type': 'extractive', 'score': 0.7144670188426971, 'context': 'akes Bandages hesitate for a moment, apprehensive of Goku. Fortuneteller Baba impatiently tells them to start, and Bandages lunges forward and punches', 'offsets_in_document': [{'start': 368, 'end': 372}], 'offsets_in_context': [{'start': 73, 'end': 77}], 'document_id': '582b76a1277eee4ae0883b926ddd79e9', 'meta': {'title': 'The Power of Goku', 'chapter_number': '103'}}>],\n",
            " 'documents': [<Document: {'content': \"The cover of this chapter shows Goku in the center riding the Flying Nimbus. Around him in four different boxes are Nappa on the top left hand corner, Gohan, Krillin, Piccolo on the top right hand corner, Vegeta on the bottom right hand corner, Korin and Kami on the bottom left hand corner.\\n Kami warps Goku back to Earth Now with their extra three hours provided to them by Vegeta have run out, Piccolo, Gohan, and Krillin begin to feel hopeless now that Goku still has not arrived. Vegeta assumes Kakarot must have fled to escape the Saiyans, and Vegeta deems him a coward. Gohan angrily growls that his father his anything but a coward, but Krillin begins to agree with Vegeta, that possibly even this threat was too much for even Goku to be fearless of. As Nappa removes his damaged armor, he cracks his knuckles, and prepares to begin a new round with the Dragon Team, smirking menacingly. Krillin, with no confidence, states this wasteland will be his own grave, and the Earth will cease to exist from this day forward, as there is no hope of even denting the Saiyans now. Piccolo states however, he still has one final plan that is a huge risk, but will pay off greatly if successfully performed. As Krillin and Gohan listen carefully, Piccolo plans that Krillin shall distract Nappa, while Piccolo shall pull at Nappa's tail, remembering how much pain Raditz felt when his tail was pulled. Piccolo then states after he has handicapped Nappa by immobilizing him, Gohan and Krillin shall attack Nappa with everything they have got, and fire their best techniques. Gohan now promises he shall not flee like the last time, with Piccolo replying that if Gohan even thinks of fleeing again, the whole Earth shall fall, and that pressure is more than enough to get Gohan standing his ground. Piccolo calms Gohan by saying if he calms his mind and uses his attacks carefully, he shall probably pass even Piccolo in strength. As Nappa begins to slowly walk towards the trio, Piccolo holds a fighting position, and gets ready to put his plan into action.\\n Korin throws Goku a few Senzu Beans Meanwhile, Kami and Mr. Popo on the Lookout notice that Goku has now ended his return journey on Snake Way and has now returned to King Yemma's office in the Other World, with his mentor for the past few months, King Kai amazed at Goku's progress and power. Teleporting to the office, Kami orders Goku to grab his arm and teleports back to the Lookout as quickly as possible. Wasting no time, Goku thanks Kami for the help and immediately jumps off the Lookout and begins to fly towards the Saiyans and the Z Fighter's battlefield. Korin, nearby on Korin Tower, notices that Goku is extremely tired, and decides to give him the last two Senzu Beans he has on the tower. Goku catches the beans and thanks Korin, swallowing one of the beans, gaining his full energy back, and can now fly at full speed. Goku calls out his Flying Nimbus and heads towards the battle at tremendous speed.\\n Nappa reveals that he and Vegeta have overcome the weakness in their tail Meanwhile, with the Z Fighters, Krillin gives out a loud yell and leaps towards Nappa, following Piccolo's order to distract him. Vegeta however, realizes that they have a hidden plan, as they would not attempt to directly attack Nappa like that head on, but Vegeta still decides not to interfere, wanting Nappa to figure it out for himself. However, surprising Nappa, instead of attacking him, Krillin blasts two ki beams towards the ground and levitates himself into the air, as Nappa looks in confusion, thus making Krillin's attempt to draw Nappa's attention a success. Piccolo, now running as fast as he can, now manages to get behind the Saiyan, and grabs onto his tail, and proceeds to grip it tightly and torture Nappa. Piccolo now orders Gohan to rush in and attack Nappa while he is immobilized. However, in a shocking turn of events, Nappa appears unfazed by Piccolo grabbing his tail, as he elbows Piccolo directly on the head, giving the Namekian a large bruise, and knocking him out cold in one light hit. As Piccolo falls, Nappa grabs his clothing, and orders Piccolo to tell him where the Dragon Balls are. Vegeta begins to laugh, as he questions why the Z Fighters would go for such a stupid tactic against elite Saiyan warriors, who have trained their tails to be stronger against threats. As Gohan and Krillin watch in complete fear, Piccolo is now out of the battle, and Goku still has not arrived.\\n\", 'content_type': 'text', 'score': 0.6914593339246218, 'meta': {'title': 'Back From the Other Side', 'chapter_number': '220 (DBZ 26)'}, 'embedding': None, 'id': 'a7753c674e5421a87f3b690408e11dc0'}>,\n",
            "               <Document: {'content': \"The cover of the chapter features Piccolo and Android 17 facing each other with Android 18 and Android 16 watching the battle in the foreground, and a large Cell in his imperfect form in the background.\\n Android 17 attacks Piccolo Piccolo and Android 17 continue their desperate struggle, with both of them almost tied in terms of power. Unfortunately for Piccolo, Android 17 has the advantage by having an infinite energy flow, thus, he cannot feel fatigue. Piccolo and Android 17 descend back to the ground after fighting in the air for a long period of time. Android 17 lands near Android 16 and Android 18, and praises Piccolo for his surprising newfound strength. Android 17 though, still maintaining his egotistical attitude, informs Piccolo he is still far superior, and that Piccolo's newfound strength will still not be enough to totally decimate the Androids. Android 17 now orders Piccolo to tell of Goku's location, something the Androids have wanted to know due to their programming by the late Dr. Gero, who wanted revenge on Goku for destroying the Red Ribbon Army and his career. Piccolo, calm and collected, smirks menacingly, telling Android 17 that it will take more than petty threats and a beating to squeeze the information out of him. Not feeling sorry for his opponent, Android 17 promises he will not give Piccolo any mercy, and will now fight seriously. Android 17 lands right next to the concentrating Piccolo, who is now preparing a clever tactic. As Android 17 and Piccolo stare at each other, not flinching or slightly moving, Android 17 manages to land a strike on Piccolo's face, which was far too fast for Piccolo to even attempt to dodge.\\n Android 17 vs. Piccolo Piccolo quickly recovers and tries to make a comeback, attempting to strike 17 in the face also. However, Android 17 ducks and dodges swiftly and calmly, then managing to land a devastating stomach punch, which causes Piccolo to fall slowly in pain. Android 17 speeds Piccolo's falling by elbowing him in the back, knocking him fast first into the dust and grass of the island. Now recovering once again, Piccolo dodges a quick kick from Android 17, backflipping away from 17. Piccolo cracks his stiff neck, not showing any visible signs of weakening or slowing down, and compliments Android 17 on his amazing speed, but that his punches are quite lacking in force. 17, surprised Piccolo as managed to withstand so many attacks, replies that Piccolo is far too confident for his own benefit, and that he will soon learn not to mock an obviously stronger opponent. Android 17 makes a running dash towards Piccolo, his eyes cold and menacing, as he prepares another fatal strike. Piccolo raises his right arm in preparation and attempts a karate chop on Android 17's neck, however, the Android is still too fast for Piccolo to hit, and 17 manages to dodge the attack and flip behind Piccolo, kneeing him directly in his skull. Piccolo retaliates by kicking Android 17 directly in his face. Android 17 makes an even quicker comeback by punching Piccolo as he recovers, but Piccolo once again strikes back by head-butting his foe, making the android fly back many feet, destroying the ground nearby. Android 18 still looks on in surprise and intrigue, amazed and confused as to how Piccolo has gained so much strength in such little time, as Piccolo could not even stand against the Androids in their first encounter. Piccolo and Android 17 continue to dish out more attacks and block them, with neither of them seeming to either give in or tire.\\n The battle rages on Nearby, Cell continues to fly at high speeds, searching for Android 17 and 18 so he can absorb and consume them, in order to reach his perfect state, an unbeatable monster. Cell notices that Piccolo's ki is at high levels and moving around very quickly, meaning he must be fighting some powerful opponent. As Cell cannot feel another source of energy in the same location, Cell figures out it must be one of the androids, as the Androids do not have a Ki Sense that is trackable. Cell now laughs with menace and excitement, now rushing to finally attain his dream and desire, his perfect form. At the Kame House, Tien Shinhan and Krillin also feel Piccolo's energy spiking, and wish they were more powerful so they could help their ally, but Master Roshi insists there is nothing that either of them could do, and that they'd only be a distraction, and therefore, a disadvantage for Piccolo. Tien now senses Cell's ki, and begins to feel absolute dread and worry, knowing how strong the beast is, and that Piccolo will not stand much of a chance with both Cell and 17 to deal with. Chi-Chi runs outside the house to inform Krillin that Bulma is on the phone and wishes to speak to him urgently about a major discovery about the Androids design. Bulma tells Krillin she has found a weakness both Android 17 and Android 18 each have, an emergency off switch, something Dr. Gero built and once planned to use in case either of the Androids stood out of line or tried to betray their creator. Bulma informs Krillin she has a new remote device to shut down the Androids ready, and Krillin urgently orders Bulma to fly over and give it to him now, so he can assist Piccolo in the battle. Tien now begins to feel a slight glimpse of hope, and says Cell will be much less a threat if the two things that he needs to complete his evolution are destroyed. Krillin however, feels doubt and slight sadness that he will have to destroy Android 18, as he has developed an infatuation for Android 18 when she kissed his cheek after she and Android 17 defeated the Dragon Team on the Mountain Road.\\n Meanwhile, still waiting on The Lookout for Vegeta and Future Trunks to emerge from the Hyperbolic Time Chamber, Gohan and Goku now notice Cell's energy rushing towards Piccolo's. Goku now loses his patience with Vegeta, and knows Vegeta should have achieve a new state of the Super Saiyan form by now. Gohan begins to feel woe for his mentor Piccolo, as Cell gets closer and closer to him.\\n Cell rushes to the battle between Piccolo and Android 17 Piccolo and Android 17 continue to brawl, with Android 17 now at the slight advantage. Piccolo, now getting frustrated his energy is being wasted on useless melee attacks, decides to fire a power Explosive Demon Wave to finally disintegrate Android 17. The powerful Android dodges the attack just barely, and now also he starts to lose patience. Piccolo now begins to breathe heavily in tiredness, which makes Android 17 grin sadistically, reminding Piccolo that he has infinite flowing energy coursing through him. Piccolo however, pays no attention to the Android, as he suddenly feels a powerful energy source; Cell has finally arrived, and looks down upon Piccolo and the androids with glee, preparing to finally achieve his perfect state and become the most powerful entity the universe will ever know.\\n\", 'content_type': 'text', 'score': 0.6495194342939706, 'meta': {'title': 'Waiting in the Wings', 'chapter_number': '368 (DBZ 174)'}, 'embedding': None, 'id': '256f23e0911b4f7ae65b6b4b8ba7e4ab'}>,\n",
            "               <Document: {'content': \"The cover of this chapter shows many little squares on it. Some squares contain letters that eventually spell out Dragon Ball. These squares are separated by squares containing characters, such as Krillin, Baba, Shenron, Upa, Yamcha, Bulma, Grandpa Gohan, Master Roshi, Oolong, Puar, and Goku. This cover art is also featured in Daizenshuu 1. Shenron was originally colored blue, but was changed to green in the Full Color release.\\n Goku and the mysterious masked fighter stare each other down. Goku's friends are stunned by the incredible fighting displayed by both Goku and the masked fighter. The masked fighter then charges at Goku, trying to hit him, and Goku kicks the masked fighter. The masked fighter grabs Goku's leg, slams him into the ground, then flings him into the sky. Goku's friends are surprised by this, and wonder what the masked fighter will do next. The masked fighter flies up to Goku and kicks him back to the ground, hard, thinking Goku will not be able to brush the attack off. Much to his surprise, Goku flies up in the air and kicks him, almost knocking him into a building. The masked fighter quickly recovers from the hit before hitting the structure, and launches himself forward, about to kick Goku. Instead of dodging or blocking it, Goku takes the kick head-on. This excites Goku and unnerves the masked fighter, who is surprised that Goku was able to toughen himself up so much. The masked fighter then surprises Goku and the others by firing a Kamehameha at Goku. Goku surprises everyone by using the Afterimage Technique to evade the masked fighter's attack.\\n\", 'content_type': 'text', 'score': 0.6192340372273342, 'meta': {'title': 'Strong vs. Strong', 'chapter_number': '106'}, 'embedding': None, 'id': '11f50419daa2531aecebcbc962941a41'}>,\n",
            "               <Document: {'content': 'The cover (originally published with the following chapter) features Goku looking at Master Roshi who is holding the Bansho Fan.\\n The Ox-King showing a picture of Chi-Chi After seeing Goku\\'s Power Pole, the Ox-King tells him that his Grandpa Gohan trained alongside him under Master Roshi. The Ox-King agrees to give up the Dragon Ball if Goku can go find his daughter Chi-Chi and get the Bansho Fan from Master Roshi. Yamcha and Puar who are listening behind some ruble quickly leave the scene when they find out the girl he knocked out earlier was Chi-Chi and rush back over to her to see if she is okay. When she wakes up, she begins to take aim using her helmet but Yamcha pretends to have been in love with her to prevent being on her bad side.\\n Goku\\'s weakness of being grabbed by the tail is revealed. Yamcha runs away just as Goku goes over to Chi-Chi and tells her that he was sent to help her get to Master Roshi. Chi-Chi is able to get onto the Flying Nimbus but weakens Goku briefly when she pulls his tail, revealing a weakness to Yamcha who witnesses it from a nearby distance. While flying over the Diablo Desert, Goku decides to \"Pat-Pat\" Chi-Chi to confirm she is a girl. After Chi-Chi hits Goku for it, she secretly begins to fall in love with him.\\n Goku and Chi-Chi arrive at Master Roshi\\'s Island Once they get to the ocean, they get directions to Master Roshi\\'s House, from a talking Dolphin. Once arriving at the house, Goku says hello to Master Roshi and Umigame.\\n Bulma\\'s leggings missing in two panels  ', 'content_type': 'text', 'score': 0.6192225279907358, 'meta': {'title': \"In Search of Kame-Sen'nin\", 'chapter_number': '12'}, 'embedding': None, 'id': '38b2b390d463b060ee6f0ad09cf1ddcc'}>,\n",
            "               <Document: {'content': 'March 2003 The cover shows Gohan smiling, wearing a hat with a Dragon Ball on the top. The text translates as \"My name is Gohan. I\\'m four years old. When I grow up, I want to be a great scholar.\" For the Viz Media English translation, the following chapter\\'s title page is used for this chapter instead. However, the VizBig edition includes the original title page, translated into English.\\n Raditz abducts Gohan The alien is surprised to learn that \"Kakarot\" doesn\\'t recognize him, and asks if he forgot his mission. Goku doesn\\'t understand, and denies being Kakarot. The alien asks if Goku ever suffered a blow to the head that may have resulted in memory loss. Goku hazily recalls and confirms the event. Master Roshi tells of a conversation he had with Son Gohan, where the latter mentioned taking in a violent and aggressive child, who, after falling down a ravine, became good-natured, and calm. Goku realizes the child was himself.\\n Realizing Goku has forgotten everything, the alien reveals that he is Goku\\'s older brother, Raditz, that they were born on Planet Vegeta, and are both members of the warrior race, the Saiyans. Raditz further claims that Goku was sent here as a child to wipe out all life on the planet with the help of the moon, so that the Saiyans could resell it to a new species. Master Roshi, Bulma, and Krillin all realize what he means, but Goku doesn\\'t know of his Great Ape transformation.\\n Raditz becomes angry after noticing Goku\\'s missing tail, and accuses him of trying to blend in with the humans he was supposed to kill. Confused, Goku denies his Saiyan heritage, and tells Raditz to leave. Raditz explains that there are only four Saiyans left alive after a meteor collided with their home planet, and asks Goku to join them to assist in conquering a difficult planet. Goku refuses. Raditz notices Gohan\\'s tail, and realizes he\\'s Goku\\'s son. Raditz forcefully abducts Gohan, and demands 100 corpses be lined up on the beach of Kame House by the next day, or else he will kill Goku\\'s son.\\n', 'content_type': 'text', 'score': 0.6176121408403432, 'meta': {'title': 'Tails of Future Not-Quite-Past', 'chapter_number': '197 (DBZ 3)'}, 'embedding': None, 'id': '255898c2c4f5630d880531f45db898e8'}>,\n",
            "               <Document: {'content': \"The cover of this chapter shows Goku and Bandages the Mummy in fighting stances. Baba is seen in the corner.\\n Goku lands a devastating punch to Bandages the Mummy Goku and Bandages are about to fight one another in Devil's Toilet. Goku confidently urges Bandages the Mummy to attack him, which makes Bandages hesitate for a moment, apprehensive of Goku. Fortuneteller Baba impatiently tells them to start, and Bandages lunges forward and punches Goku, who takes the hit head-on. Goku is kicked by Bandages and hits the head of one of the stone demons while Yamcha, Krillin, Master Roshi, and the others watch on, horrified. Goku lays motionless on the tongue of the stone demon, and Bandages scoffs about how easy an opponent Goku was. Baba states that Goku will lose if he is unconscious and asks for a reply from Goku to confirm whether he is down for the count or not. Goku gets back up, shocking Baba and Bandages, and he eagerly winds up for his turn to hit Bandages. Goku walks forward and Master Roshi and Puar discuss with one another how astounded they are that Goku took no damage from Bandages' brutal attacks.\\n Spike the Devil Man Bandages tries to punch Goku, only to miss when the boy ducks to evade the punch. Goku punches Bandages and connects with the mummy's stomach, knocking the wind out of him and seemingly incapacitating the mummy. Goku lifts Bandages with little effort, shocking Baba even further, and Goku asks Bandages to reply. When the latter does not reply, Baba reluctantly declares that Goku has won the match, and the boy cheerfully carries Bandages out of the way so they can prepare for the next match. Goku's friends watch, shocked at how easy the battle was for Goku. They muse that Goku incapacitating the mummy with one blow is impossible, and Master Roshi remarks on Goku's incredible strength. Spike the Devil Man and a masked fighter look on from within a stone demon's mouth, where Spike muses on Goku's strength, but is confident that Goku will not be able to defeat him.\\n Baba introduces Akkuman as her fourth contestant, and Goku remarks on the strange appearances attributed to Baba's fighters. Master Roshi comments on it, surprised that Akkuman, who is usually Baba's fifth and final contestant, is out so early, meaning Baba has found an even stronger fighter to surpass him. Baba announces the beginning of the match.\\n Akkuman flies in the air above Goku, catching him by surprise. Akkuman taunts Goku and then launches himself at the boy, claws outstretched. Goku counters it with a well-aimed kick that catches Baba and his friends by surprise, and Yamcha remarks on Goku's speed, which has left Akkuman surprised.\\n\", 'content_type': 'text', 'score': 0.6160004261467493, 'meta': {'title': 'The Power of Goku', 'chapter_number': '103'}, 'embedding': None, 'id': '582b76a1277eee4ae0883b926ddd79e9'}>,\n",
            "               <Document: {'content': \"The cover of this chapter shows characters like Goku, Master Roshi, Krillin and Yamcha. Grandpa Gohan is seen taking off his mask.\\n Goku cries out in pain, his tail having just been unintentionally ripped off by the masked warrior, who is actually Grandpa Gohan, unbeknownst to Goku. Roshi deduces that this means Goku no longer has a weak spot. Yamcha, Bulma, and the others are shocked about the masked warrior's identity, in disbelief because Grandpa Gohan is supposed to be dead. Roshi points out the halo over Gohan's head. Goku, meanwhile, is angered about the loss of his tail and prepares to fight Grandpa Gohan, who then surrenders. Grandpa Gohan then shocks Goku by revealing his true identity and removing the mask. Goku is overjoyed, and hugs his adoptive grandfather, then cries. Grandpa Gohan then chastises Goku for not overcoming the weakness of his tail sooner.\\n Grandpa Gohan reveals himself Goku asks Gohan how he was revived, and Gohan explains that he is still dead, but Fortuneteller Baba brought him from the afterlife to fight matches for her. Goku asks Grandpa Gohan to live with him again, but then Gohan reveals that he is only back from the afterlife for a day. It is revealed that Fortuneteller Baba intentionally chose to pit Gohan up against Goku, by Gohan's request. Gohan thanks Roshi for training and watching over Goku, and then asks him if Goku has been transforming into a Great Ape, upon which Roshi states that he has things under control.\\n Goku then shows Grandpa Gohan his amassed collection of Dragon Balls, and Bulma explains how the Dragon Balls changed Goku's life. Upa feels bad about having his father alone be revived while Goku's grandfather is dead, to which Gohan responds that he is fond of the afterlife, hinting that women might be the reason that is so. Gohan then bids Goku and the others farewell before returning to the afterlife.\\n Fortuneteller Baba then uses her powers to locate the remaining Dragon Ball for Goku and company. Her crystal ball shows the car that Emperor Pilaf, Shu, and Mai, who plan to steal Goku's Dragon Balls, are traveling in, and Bulma ponders why the Dragon Ball did not show up on the Dragon Radar. Baba then reveals the ball is not far off, and is moving towards them.\\n\", 'content_type': 'text', 'score': 0.6128986072236843, 'meta': {'title': 'Son Gohan', 'chapter_number': '108'}, 'embedding': None, 'id': 'a42b76339a5b203a31a3929f18e18ddb'}>,\n",
            "               <Document: {'content': \"The cover show Goku preparing a Super Kamehameha, with a frustrated Piccolo in background.\\n Goku fires his Super Kamehameha Goku is charging a Super Kamehameha. Master Roshi then yells out at Goku to wait; if he kills Piccolo, Kami will also die. Goku then stops, and gets mad at not knowing what to do. Piccolo says he is going to wipe out everyone with this next attack, and make this world into a living Hell. Goku yells up at Piccolo, who is powering up, to not be a coward and come back down here and fight him. He also tells the others are not involved in their battle.\\n Piccolo prepares to launch his attack, and everyone thinks it is over until Krillin yells out to Goku that they can revive God with the Dragon Balls so he can go ahead with the Super Kamehameha. Piccolo yells down that Shenron died three years ago, and he fires his Exploding Demon Wave down toward the ring. Goku yells up that Shenlong was revived and fires his Super Kamehameha.\\n Goku's Super Kamehameha vs. Piccolo's Explosive Demon Wave Goku's Super Kamehameha flies up at Piccolo's Exploding Demon Wave, overpowers it, and then heads toward Piccolo. Piccolo shields himself. It is a direct hit, but Piccolo is still alive, although his clothes are pretty torn up.\\n\", 'content_type': 'text', 'score': 0.6086387774709108, 'meta': {'title': 'The Super Kamehameha', 'chapter_number': '185'}, 'embedding': None, 'id': 'b22bc24d156b626cd75ea201c775e738'}>,\n",
            "               <Document: {'content': 'As the evil Super Buu continues to violently scream and morph in size due to the earlier removal of Good Buu\\'s pod in his stomach, Goku, Vegeta, Dende, and Mr. Satan watch in complete confusion, wondering what Boo will become. On the Sacred World of the Kai, Old Kai and Kibito Kai also watch in confusion, although Kibito Kai has more of a clue about what\\'s happening, stating that Boo is morphing back into his \"Original state\". Eventually, Boo finishes his transformation, and is now much shorter in height, with less muscle. Vegeta laughs at his new form, mocking him due to his kid-like size. Kid Buu does not respond to this insult, and instead stares blankly into the sky. Back on the Kai planet, Kibito Kai explains his first encounter with Boo while he was Supreme Kai and explains everything:\\n Huge Buu Millions of years ago, the evil wizard Bibbidi created Boo, who he sent to attack millions of planets across the galaxy, despite Boo barely listening to his creator. Supreme Kai, one of the five Kais who ruled over the universe, himself being the Eastern Kai, was the youngest, and the weakest of the Kais, who managed to escape Boo\\'s wrath with injuries. Kibito Kai explains that the Northern and Western Kais were easily destroyed by Boo very quickly, lasting only a short amount of time. The next to die was the burly South Supreme Kai. Kibito Kai explains that Boo transformed into his buff form after absorbing the Southern Kai, the form seen when Boo earlier transformed. Old Kai asks for Kibito Kai to continue, after Kibito Kai turns in sudden sadness. Kibito Kai continues to explain that the next Kai to be absorbed was the Great Lord of Lords, Daikaioh, who loved to eat and had a playful, pure-hearted personality. After Buu absorbed the Grand Supreme Kai, he morphs into the Fat Boo, whose personality becomes much more playful due to his absorbee\\'s personality. Calculating from his info, Old Kai realizes that the original form of Boo, who has now finally reappeared, is the most dangerous form, due to having no compassion or playful traits that Fat Boo had due to the Grand Supreme Kai.\\n Vegeta prevents Boo\\'s blast from hitting Earth On Earth, still staring into the sky, Boo suddenly without warning unleashes a deafening scream, much to Goku and Vegeta\\'s surprise. Suddenly, Boo turns his attention to the ground, lowering his hand. He suddenly unleashes a small ki blast, shocking Goku and Vegeta, but Vegeta manages to deflect the blast just before the blast hits the planet. Enraged by Boo\\'s action, Vegeta demands that Boo fight them first before even thinking of wiping out the planet. Boo turns towards them, finally changing his expression into a menacing smile. Boo then raises his hand in the air, and charges a gigantic energy ball, and despite Goku\\'s pleas, Boo launches the attack giggling, preparing to destroy the planet. Goku and Vegeta suddenly become fearful, knowing there is no way they can deflect an attack that large and more powerful than themselves. As Goku notices he only has seconds to escape alive and be able to save Gohan, Piccolo, Goten and Trunks, Goku prepares to teleport to them, and then to the Planet of the Kais, along with Vegeta. As Goku puts his plan into action, he notices Mr. Satan and Dende down below. Not wanting them to die too, he grabs a hold of them, but now realizes he has no time to rescue the others. As Goku prepares to teleport to the Kai planet, Kibito Kai teleports to Earth himself and grabs Goku\\'s hand, teleporting Goku and the others back to the Kai planet, as Gohan, Trunks, Goten and Piccolo are destroyed in the Earth\\'s explosion. As Old Kai cheers their escape with Goku realizing that he has failed to save Piccolo, Gohan, Goten and Trunks and Mr. Satan sees the Kai planet asks that he\\'s really dead, Vegeta scolds Goku for saving Mr. Satan and Bee rather than his own family and friends, as Goku stays silent with a look of sorrow.\\n', 'content_type': 'text', 'score': 0.6069504538387156, 'meta': {'title': 'The Boo of Pure Evil', 'chapter_number': '508 (DBZ 314)'}, 'embedding': None, 'id': '8c9a2cd91b5ebda3a15288dd4593e4c9'}>,\n",
            "               <Document: {'content': 'Piccolo tries to figure out what Goku said, while Babidi thinks it\\'s just nonsense. Goku notices Trunks\\' ki has stopped moving, and hopes he hurries up. Trunks is sitting mid-air watching the events between Goku and Babidi, so Goku yells out at him to hurry up and get the Radar. Babidi wonders who he was talking to, and figures he has some sort of futile plan. Goku thinks he\\'ll just have to buy more time, and then returns to normal. Buu thinks he\\'s given up, but Goku says he gonna explain Super Saiyan transformations. Babidi doesn\\'t want to know, but Goku starts off in his normal stage and demonstrates Super Saiyan and then Super Saiyan 2.\\n Babidi thinks these transformations are meaningless \"and\" Krillin thinks Goku\\'s bluffing.\\nHowever, Goku starts transforming, this one not being an immediate change, but goes way beyond Super Saiyan 2. King Kai wants him to stop, or else his remaining time will… Babidi and Buu are shocked, as Piccolo says his ki is rising rapidly. Even Tien Shinhan, way off in the mountains somewhere with Chiaotzu, says the Earth is shaking and wonders what Goku\\'s up to. Goku finally completes the transformation. His hair is much longer, there\\'s a lot more lightning, and he\\'s lost his eyebrows. He apologizes for taking so much time since he\\'s used to this form and calls it Super Saiyan 3. Everyone is amazed, and even Gohan stops his Z Sword training to wonder if that\\'s his dad\\'s ki he can feel. Supreme Kai says it really is Goku, and Kibito can\\'t believe they\\'d feel his power all the way here in this sacred land. Gohan wonders what is going on. Back on Earth, Buu says Goku\\'s face has gotten scary, but Buu is not scared at all. Babidi thinks this is nothing much, and tells Boo to beat him up, as the entire Earth watches. Goku flies forward, grabs Buu\\'s forelock, and then punches Boo a few times with his free hand. Goku then swings Buu around, letting him go so that Buu crashes into the ocean.\\n Buu flies out of the water, and lets off a volley of blasts at Goku. Goku manages to swat them all away, thinking Buu was hardly damaged by his attack, and Buu just used one of Vegeta\\'s techniques, meaning he can pick up his opponent\\'s techniques just from fighting for a little while. Buu stretches his arm out to punch Goku in the face from a distance, but Goku is barely damaged, either. King Kai wants Goku to stop, because using that abnormal power will greatly reduce his time on Earth, and then there will be no one to teach Fusion to the kids.\\n', 'content_type': 'text', 'score': 0.6043465315091744, 'meta': {'title': 'Super Saiyan Level 3!!!', 'chapter_number': '474 (DBZ 280)'}, 'embedding': None, 'id': 'c5f0078037a326388b8553700fb88902'}>],\n",
            " 'no_ans_gap': 7.274027347564697,\n",
            " 'node_id': 'Reader',\n",
            " 'params': {'Reader': {'top_k': 5}, 'Retriever': {'top_k': 10}},\n",
            " 'query': \"Who was Goku's mentor?\",\n",
            " 'root_node': 'Query'}\n"
          ]
        },
        {
          "output_type": "stream",
          "name": "stderr",
          "text": [
            "\n"
          ]
        }
      ]
    },
    {
      "cell_type": "code",
      "source": [
        "def get_answers(input_question):\n",
        "  prediction = pipe.run(\n",
        "    query=input_question, params={\"Retriever\": {\"top_k\": 10}, \"Reader\": {\"top_k\": 5}}\n",
        ")\n",
        "  \n",
        "  answers_list = []\n",
        "  print('\\n\\n', input_question)\n",
        "\n",
        "  for model_answer in prediction['answers']:\n",
        "    answers_dic = {}\n",
        "    answers_dic['answer'] = model_answer.answer\n",
        "    answers_dic['score'] = model_answer.score\n",
        "    answers_dic['chapter_number']= model_answer.meta['chapter_number']\n",
        "    answers_dic['title']= model_answer.meta['title']\n",
        "    print(answers_dic)"
      ],
      "metadata": {
        "id": "ojIMFqWW1NWZ"
      },
      "execution_count": null,
      "outputs": []
    },
    {
      "cell_type": "code",
      "execution_count": null,
      "metadata": {
        "id": "U08qKio9Uc7h",
        "colab": {
          "base_uri": "https://localhost:8080/"
        },
        "outputId": "39450503-d3e7-4354-e60b-7bfd8f8dc746"
      },
      "outputs": [
        {
          "output_type": "stream",
          "name": "stderr",
          "text": [
            "Inferencing Samples:   0%|          | 0/1 [00:00<?, ? Batches/s]/usr/local/lib/python3.7/dist-packages/haystack/modeling/model/prediction_head.py:483: UserWarning: __floordiv__ is deprecated, and its behavior will change in a future version of pytorch. It currently rounds toward 0 (like the 'trunc' function NOT 'floor'). This results in incorrect rounding for negative values. To keep the current behavior, use torch.div(a, b, rounding_mode='trunc'), or for actual floor division, use torch.div(a, b, rounding_mode='floor').\n",
            "  start_indices = flat_sorted_indices // max_seq_len\n",
            "Inferencing Samples: 100%|██████████| 1/1 [00:00<00:00,  8.22 Batches/s]\n",
            "Inferencing Samples: 100%|██████████| 1/1 [00:00<00:00,  3.20 Batches/s]\n",
            "Inferencing Samples: 100%|██████████| 1/1 [00:00<00:00,  4.25 Batches/s]\n",
            "Inferencing Samples: 100%|██████████| 1/1 [00:00<00:00,  3.70 Batches/s]\n",
            "Inferencing Samples: 100%|██████████| 1/1 [00:00<00:00, 13.52 Batches/s]\n",
            "Inferencing Samples: 100%|██████████| 1/1 [00:00<00:00,  2.35 Batches/s]\n",
            "Inferencing Samples: 100%|██████████| 1/1 [00:00<00:00,  1.84 Batches/s]\n",
            "Inferencing Samples: 100%|██████████| 1/1 [00:00<00:00, 27.76 Batches/s]\n",
            "Inferencing Samples: 100%|██████████| 1/1 [00:00<00:00, 18.67 Batches/s]\n",
            "Inferencing Samples: 100%|██████████| 1/1 [00:00<00:00, 20.88 Batches/s]"
          ]
        },
        {
          "output_type": "stream",
          "name": "stdout",
          "text": [
            "\n",
            "\n",
            " Who is Vegeta married to?\n",
            "{'answer': 'Bulma', 'score': 0.6816011667251587, 'chapter_number': 'Series', 'title': 'Dragon Ball Super '}\n",
            "{'answer': 'Chi-Chi and Bulma', 'score': 0.4590454697608948, 'chapter_number': '517 (DBZ 323)', 'title': 'A Happy Ending... And Then...'}\n",
            "{'answer': 'Midori', 'score': 0.269614540040493, 'chapter_number': 'Series', 'title': 'Dr. Slump '}\n",
            "{'answer': 'Android 18', 'score': 0.19324230402708054, 'chapter_number': '353 (DBZ 159)', 'title': 'Vegeta vs. Android #18, Round Two'}\n",
            "{'answer': 'Goku', 'score': 0.188460111618042, 'chapter_number': '353 (DBZ 159)', 'title': 'Vegeta vs. Android #18, Round Two'}\n"
          ]
        },
        {
          "output_type": "stream",
          "name": "stderr",
          "text": [
            "\n"
          ]
        }
      ],
      "source": [
        "#prediction = pipe.run(query=\"Who created Buu?\", params={\"Reader\": {\"top_k\": 5}})\n",
        "#prediction = pipe.run(query=\"Who is Vegeta married to?\", params={\"Reader\": {\"top_k\": 5}})\n",
        "get_answers('Who is Vegeta married to?')"
      ]
    },
    {
      "cell_type": "code",
      "source": [
        "pprint(prediction)"
      ],
      "metadata": {
        "id": "zGIQgh6DoDFy"
      },
      "execution_count": null,
      "outputs": []
    },
    {
      "cell_type": "code",
      "source": [
        "get_answers(\"Who created the Dragon Ball manga?\")"
      ],
      "metadata": {
        "colab": {
          "base_uri": "https://localhost:8080/"
        },
        "id": "uA9-VpPxkH5W",
        "outputId": "7b3a8675-4c0e-46c0-b697-763c72781f47"
      },
      "execution_count": null,
      "outputs": [
        {
          "output_type": "stream",
          "name": "stderr",
          "text": [
            "Inferencing Samples:   0%|          | 0/1 [00:00<?, ? Batches/s]/usr/local/lib/python3.7/dist-packages/haystack/modeling/model/prediction_head.py:483: UserWarning: __floordiv__ is deprecated, and its behavior will change in a future version of pytorch. It currently rounds toward 0 (like the 'trunc' function NOT 'floor'). This results in incorrect rounding for negative values. To keep the current behavior, use torch.div(a, b, rounding_mode='trunc'), or for actual floor division, use torch.div(a, b, rounding_mode='floor').\n",
            "  start_indices = flat_sorted_indices // max_seq_len\n",
            "Inferencing Samples: 100%|██████████| 1/1 [00:00<00:00,  2.93 Batches/s]\n",
            "Inferencing Samples: 100%|██████████| 1/1 [00:00<00:00,  2.10 Batches/s]\n",
            "Inferencing Samples: 100%|██████████| 1/1 [00:00<00:00,  1.55 Batches/s]\n",
            "Inferencing Samples: 100%|██████████| 1/1 [00:00<00:00,  4.78 Batches/s]\n",
            "Inferencing Samples: 100%|██████████| 1/1 [00:00<00:00,  5.54 Batches/s]\n",
            "Inferencing Samples: 100%|██████████| 1/1 [00:00<00:00,  2.07 Batches/s]\n",
            "Inferencing Samples: 100%|██████████| 1/1 [00:00<00:00,  1.89 Batches/s]\n",
            "Inferencing Samples: 100%|██████████| 1/1 [00:00<00:00, 32.64 Batches/s]\n",
            "Inferencing Samples: 100%|██████████| 1/1 [00:00<00:00, 15.66 Batches/s]\n",
            "Inferencing Samples: 100%|██████████| 1/1 [00:00<00:00, 31.46 Batches/s]"
          ]
        },
        {
          "output_type": "stream",
          "name": "stdout",
          "text": [
            "\n",
            "\n",
            " Who created the Dragon Ball manga?\n",
            "{'answer': 'Akira Toriyama', 'score': 0.9799302220344543, 'chapter_number': 'Series', 'title': 'Dragon Ball Z '}\n",
            "{'answer': 'Akira Toriyama', 'score': 0.9630944132804871, 'chapter_number': 'Series', 'title': 'Dragon Ball Z '}\n",
            "{'answer': 'Akira Toriyama', 'score': 0.9487966299057007, 'chapter_number': 'Series', 'title': 'Dragon Ball '}\n",
            "{'answer': 'Toei', 'score': 0.7679942846298218, 'chapter_number': 'Series', 'title': 'Dragon Ball Super '}\n",
            "{'answer': 'Akira Toriyama', 'score': 0.7599756717681885, 'chapter_number': 'Series', 'title': 'Dragon Ball '}\n"
          ]
        },
        {
          "output_type": "stream",
          "name": "stderr",
          "text": [
            "\n"
          ]
        }
      ]
    },
    {
      "cell_type": "code",
      "source": [
        "get_answers(\"How many episodes does Dragon Ball Z have?\")"
      ],
      "metadata": {
        "colab": {
          "base_uri": "https://localhost:8080/"
        },
        "id": "P7_v11xcoIFF",
        "outputId": "55ead284-ec18-414c-d711-ee4cdb989558"
      },
      "execution_count": null,
      "outputs": [
        {
          "output_type": "stream",
          "name": "stderr",
          "text": [
            "Inferencing Samples:   0%|          | 0/1 [00:00<?, ? Batches/s]/usr/local/lib/python3.7/dist-packages/haystack/modeling/model/prediction_head.py:483: UserWarning: __floordiv__ is deprecated, and its behavior will change in a future version of pytorch. It currently rounds toward 0 (like the 'trunc' function NOT 'floor'). This results in incorrect rounding for negative values. To keep the current behavior, use torch.div(a, b, rounding_mode='trunc'), or for actual floor division, use torch.div(a, b, rounding_mode='floor').\n",
            "  start_indices = flat_sorted_indices // max_seq_len\n",
            "Inferencing Samples: 100%|██████████| 1/1 [00:00<00:00,  1.69 Batches/s]\n",
            "Inferencing Samples: 100%|██████████| 1/1 [00:00<00:00,  5.04 Batches/s]\n",
            "Inferencing Samples: 100%|██████████| 1/1 [00:00<00:00,  3.57 Batches/s]\n",
            "Inferencing Samples: 100%|██████████| 1/1 [00:00<00:00,  2.07 Batches/s]\n",
            "Inferencing Samples: 100%|██████████| 1/1 [00:00<00:00,  1.87 Batches/s]\n",
            "Inferencing Samples: 100%|██████████| 1/1 [00:00<00:00,  2.61 Batches/s]\n",
            "Inferencing Samples: 100%|██████████| 1/1 [00:00<00:00,  6.29 Batches/s]\n",
            "Inferencing Samples: 100%|██████████| 1/1 [00:00<00:00,  7.84 Batches/s]\n",
            "Inferencing Samples: 100%|██████████| 1/1 [00:00<00:00, 17.31 Batches/s]\n",
            "Inferencing Samples: 100%|██████████| 1/1 [00:00<00:00, 17.42 Batches/s]"
          ]
        },
        {
          "output_type": "stream",
          "name": "stdout",
          "text": [
            "\n",
            "\n",
            " How many episodes does Dragon Ball Z have?\n",
            "{'answer': '39', 'score': 0.8230448067188263, 'chapter_number': 'Series', 'title': 'Dragon Ball Z '}\n",
            "{'answer': '53', 'score': 0.8091394603252411, 'chapter_number': 'Series', 'title': 'Dragon Ball Z '}\n",
            "{'answer': '64', 'score': 0.7986690104007721, 'chapter_number': 'Series', 'title': 'Dragon Ball GT '}\n",
            "{'answer': '39', 'score': 0.7823076844215393, 'chapter_number': 'Series', 'title': 'Dragon Ball Super '}\n",
            "{'answer': '288 and 289', 'score': 0.7809144556522369, 'chapter_number': 'Series', 'title': 'Dragon Ball Super '}\n"
          ]
        },
        {
          "output_type": "stream",
          "name": "stderr",
          "text": [
            "\n"
          ]
        }
      ]
    },
    {
      "cell_type": "code",
      "source": [
        "\n",
        "get_answers(\"Who is Goku's grandpa?\")"
      ],
      "metadata": {
        "colab": {
          "base_uri": "https://localhost:8080/"
        },
        "id": "AWs7ebmekRDW",
        "outputId": "b81b467a-1a37-45a4-8d49-05a50a9b1166"
      },
      "execution_count": null,
      "outputs": [
        {
          "output_type": "stream",
          "name": "stderr",
          "text": [
            "Inferencing Samples:   0%|          | 0/1 [00:00<?, ? Batches/s]/usr/local/lib/python3.7/dist-packages/haystack/modeling/model/prediction_head.py:483: UserWarning: __floordiv__ is deprecated, and its behavior will change in a future version of pytorch. It currently rounds toward 0 (like the 'trunc' function NOT 'floor'). This results in incorrect rounding for negative values. To keep the current behavior, use torch.div(a, b, rounding_mode='trunc'), or for actual floor division, use torch.div(a, b, rounding_mode='floor').\n",
            "  start_indices = flat_sorted_indices // max_seq_len\n",
            "Inferencing Samples: 100%|██████████| 1/1 [00:00<00:00, 10.59 Batches/s]\n",
            "Inferencing Samples: 100%|██████████| 1/1 [00:00<00:00, 11.31 Batches/s]\n",
            "Inferencing Samples: 100%|██████████| 1/1 [00:00<00:00, 11.03 Batches/s]\n",
            "Inferencing Samples: 100%|██████████| 1/1 [00:00<00:00, 11.86 Batches/s]\n",
            "Inferencing Samples: 100%|██████████| 1/1 [00:00<00:00, 10.50 Batches/s]\n",
            "Inferencing Samples: 100%|██████████| 1/1 [00:00<00:00, 18.42 Batches/s]\n",
            "Inferencing Samples: 100%|██████████| 1/1 [00:00<00:00, 10.24 Batches/s]\n",
            "Inferencing Samples: 100%|██████████| 1/1 [00:00<00:00, 35.28 Batches/s]\n",
            "Inferencing Samples: 100%|██████████| 1/1 [00:00<00:00, 13.57 Batches/s]\n",
            "Inferencing Samples: 100%|██████████| 1/1 [00:00<00:00,  8.59 Batches/s]"
          ]
        },
        {
          "output_type": "stream",
          "name": "stdout",
          "text": [
            "\n",
            "\n",
            " Who is Goku's grandpa?\n",
            "{'answer': 'Gohan', 'score': 0.9100764691829681, 'chapter_number': '12', 'title': \"In Search of Kame-Sen'nin\"}\n",
            "{'answer': 'Gohan', 'score': 0.9060605764389038, 'chapter_number': '21', 'title': 'Full Moon'}\n",
            "{'answer': 'Gohan', 'score': 0.855204164981842, 'chapter_number': '106', 'title': 'Strong vs. Strong'}\n",
            "{'answer': 'Gohan', 'score': 0.7632024884223938, 'chapter_number': '110', 'title': 'The Pilaf Machine'}\n",
            "{'answer': 'Gohan', 'score': 0.6940796673297882, 'chapter_number': '108', 'title': 'Son Gohan'}\n"
          ]
        },
        {
          "output_type": "stream",
          "name": "stderr",
          "text": [
            "\n"
          ]
        }
      ]
    },
    {
      "cell_type": "code",
      "source": [
        "\n",
        "get_answers(\"Who is Goku's grandfather?\")"
      ],
      "metadata": {
        "colab": {
          "base_uri": "https://localhost:8080/"
        },
        "id": "mcJ48DzQIJLI",
        "outputId": "e90c9096-eef7-46fe-e2a7-e6fda7311b32"
      },
      "execution_count": null,
      "outputs": [
        {
          "output_type": "stream",
          "name": "stderr",
          "text": [
            "Inferencing Samples:   0%|          | 0/1 [00:00<?, ? Batches/s]/usr/local/lib/python3.7/dist-packages/haystack/modeling/model/prediction_head.py:483: UserWarning: __floordiv__ is deprecated, and its behavior will change in a future version of pytorch. It currently rounds toward 0 (like the 'trunc' function NOT 'floor'). This results in incorrect rounding for negative values. To keep the current behavior, use torch.div(a, b, rounding_mode='trunc'), or for actual floor division, use torch.div(a, b, rounding_mode='floor').\n",
            "  start_indices = flat_sorted_indices // max_seq_len\n",
            "Inferencing Samples: 100%|██████████| 1/1 [00:00<00:00,  5.87 Batches/s]\n",
            "Inferencing Samples: 100%|██████████| 1/1 [00:00<00:00, 15.76 Batches/s]\n",
            "Inferencing Samples: 100%|██████████| 1/1 [00:00<00:00,  5.27 Batches/s]\n",
            "Inferencing Samples: 100%|██████████| 1/1 [00:00<00:00,  6.96 Batches/s]\n",
            "Inferencing Samples: 100%|██████████| 1/1 [00:00<00:00, 20.94 Batches/s]\n",
            "Inferencing Samples: 100%|██████████| 1/1 [00:00<00:00,  6.17 Batches/s]\n",
            "Inferencing Samples: 100%|██████████| 1/1 [00:00<00:00,  8.34 Batches/s]\n",
            "Inferencing Samples: 100%|██████████| 1/1 [00:00<00:00,  7.75 Batches/s]\n",
            "Inferencing Samples: 100%|██████████| 1/1 [00:00<00:00, 38.36 Batches/s]\n",
            "Inferencing Samples: 100%|██████████| 1/1 [00:00<00:00, 35.86 Batches/s]"
          ]
        },
        {
          "output_type": "stream",
          "name": "stdout",
          "text": [
            "\n",
            "\n",
            " Who is Goku's grandfather?\n",
            "{'answer': 'Mr. Satan', 'score': 0.8372938334941864, 'chapter_number': '518 (DBZ 324)', 'title': '10 Years After'}\n",
            "{'answer': 'Gohan', 'score': 0.8095550835132599, 'chapter_number': '21', 'title': 'Full Moon'}\n",
            "{'answer': 'Grandpa Gohan', 'score': 0.5588533878326416, 'chapter_number': '108', 'title': 'Son Gohan'}\n",
            "{'answer': 'Grandpa Gohan', 'score': 0.5538033843040466, 'chapter_number': '50', 'title': \"Jackie's Shocking Secret\"}\n",
            "{'answer': 'Muten Rōshi', 'score': 0.534473717212677, 'chapter_number': '196 (DBZ 2)', 'title': 'Kakarrot'}\n"
          ]
        },
        {
          "output_type": "stream",
          "name": "stderr",
          "text": [
            "\n"
          ]
        }
      ]
    },
    {
      "cell_type": "code",
      "source": [
        "get_answers(\"What is the name of Bulma's child?\")"
      ],
      "metadata": {
        "colab": {
          "base_uri": "https://localhost:8080/"
        },
        "id": "rLxTXjNHlPK0",
        "outputId": "eaf7105d-c873-4fb5-b68e-db7afc8b35e0"
      },
      "execution_count": null,
      "outputs": [
        {
          "output_type": "stream",
          "name": "stderr",
          "text": [
            "Inferencing Samples:   0%|          | 0/1 [00:00<?, ? Batches/s]/usr/local/lib/python3.7/dist-packages/haystack/modeling/model/prediction_head.py:483: UserWarning: __floordiv__ is deprecated, and its behavior will change in a future version of pytorch. It currently rounds toward 0 (like the 'trunc' function NOT 'floor'). This results in incorrect rounding for negative values. To keep the current behavior, use torch.div(a, b, rounding_mode='trunc'), or for actual floor division, use torch.div(a, b, rounding_mode='floor').\n",
            "  start_indices = flat_sorted_indices // max_seq_len\n",
            "Inferencing Samples: 100%|██████████| 1/1 [00:00<00:00, 11.75 Batches/s]\n",
            "Inferencing Samples: 100%|██████████| 1/1 [00:00<00:00,  5.66 Batches/s]\n",
            "Inferencing Samples: 100%|██████████| 1/1 [00:00<00:00,  6.92 Batches/s]\n",
            "Inferencing Samples: 100%|██████████| 1/1 [00:00<00:00, 10.96 Batches/s]\n",
            "Inferencing Samples: 100%|██████████| 1/1 [00:00<00:00, 24.14 Batches/s]\n",
            "Inferencing Samples: 100%|██████████| 1/1 [00:00<00:00, 14.72 Batches/s]\n",
            "Inferencing Samples: 100%|██████████| 1/1 [00:00<00:00, 17.72 Batches/s]\n",
            "Inferencing Samples: 100%|██████████| 1/1 [00:00<00:00, 33.69 Batches/s]\n",
            "Inferencing Samples: 100%|██████████| 1/1 [00:00<00:00, 18.34 Batches/s]\n",
            "Inferencing Samples: 100%|██████████| 1/1 [00:00<00:00, 32.73 Batches/s]"
          ]
        },
        {
          "output_type": "stream",
          "name": "stdout",
          "text": [
            "\n",
            "\n",
            " What is the name of Bulma's child?\n",
            "{'answer': 'Trunks', 'score': 0.5983053147792816, 'chapter_number': '423 (DBZ 229)', 'title': 'A Hero Is Born!'}\n",
            "{'answer': 'Chi-Chi', 'score': 0.4562258869409561, 'chapter_number': '13', 'title': 'Fanning the Flame'}\n",
            "{'answer': 'Goku', 'score': 0.403253436088562, 'chapter_number': '1', 'title': 'Bloomers and the Monkey King'}\n",
            "{'answer': 'Gohan', 'score': 0.21748258918523788, 'chapter_number': '197 (DBZ 3)', 'title': 'Tails of Future Not-Quite-Past'}\n",
            "{'answer': 'Gohan decided to put on his new disguise, knowing that if he flies to school himself he will be faster than the Flying Nimbus and no one would know who he is. While flying, Gohan noticed a car driving recklessly on a freeway and stopped right in front of it. As the driver and his companion step out of the car and prepare to attack Gohan with a knife, they ask who Gohan was. Gohan replied by striking a pose and calling himself the Great Saiyaman', 'score': 0.21472012996673584, 'chapter_number': '423 (DBZ 229)', 'title': 'A Hero Is Born!'}\n"
          ]
        },
        {
          "output_type": "stream",
          "name": "stderr",
          "text": [
            "\n"
          ]
        }
      ]
    },
    {
      "cell_type": "code",
      "source": [
        "prediction = pipe.run(query=\"Who fights Gotenks?\", params={\"Reader\": {\"top_k\": 5}})\n",
        "pprint(prediction)"
      ],
      "metadata": {
        "id": "G4sEy1zilc18"
      },
      "execution_count": null,
      "outputs": []
    },
    {
      "cell_type": "code",
      "source": [
        "prediction = pipe.run(query=\"Who are the characters that fuse into Vegito?\", params={\"Reader\": {\"top_k\": 5}})\n",
        "pprint(prediction)"
      ],
      "metadata": {
        "id": "FIj0A1JJlrsz"
      },
      "execution_count": null,
      "outputs": []
    },
    {
      "cell_type": "code",
      "source": [
        "prediction = pipe.run(query=\"How many dragon balls are there?\", params={\"Reader\": {\"top_k\": 5}})\n",
        "pprint(prediction)"
      ],
      "metadata": {
        "id": "YjA0i-lPo6Fo"
      },
      "execution_count": null,
      "outputs": []
    },
    {
      "cell_type": "code",
      "source": [
        "prediction = pipe.run(query=\"Who killed Bardock?\", params={\"Reader\": {\"top_k\": 5}})\n",
        "pprint(prediction)"
      ],
      "metadata": {
        "id": "EBE0ER-cpEBL"
      },
      "execution_count": null,
      "outputs": []
    },
    {
      "cell_type": "code",
      "source": [],
      "metadata": {
        "id": "8d3kflhWyr-1"
      },
      "execution_count": null,
      "outputs": []
    }
  ],
  "metadata": {
    "kernelspec": {
      "display_name": "Python 3",
      "language": "python",
      "name": "python3"
    },
    "language_info": {
      "codemirror_mode": {
        "name": "ipython",
        "version": 3
      },
      "file_extension": ".py",
      "mimetype": "text/x-python",
      "name": "python",
      "nbconvert_exporter": "python",
      "pygments_lexer": "ipython3",
      "version": "3.9.7"
    },
    "colab": {
      "provenance": [],
      "collapsed_sections": []
    },
    "accelerator": "GPU"
  },
  "nbformat": 4,
  "nbformat_minor": 0
}